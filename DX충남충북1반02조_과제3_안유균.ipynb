{
 "cells": [
  {
   "cell_type": "markdown",
   "metadata": {
    "id": "mTt7qGUTCcFs"
   },
   "source": [
    "# 과제3. 직원 이직 분석"
   ]
  },
  {
   "cell_type": "markdown",
   "metadata": {
    "id": "wxRsRRwbEQ2K"
   },
   "source": [
    "* 여러분은 OO회사의 **데이터분석가** 입니다.\n",
    "* **인사팀**에서는 여러분에게 우리 회사 직원의 **이직(Attrition)에 영향을 주는 요인**을 분석해달라고 요청해 왔습니다."
   ]
  },
  {
   "cell_type": "markdown",
   "metadata": {
    "id": "0wuYJKZHjA3d"
   },
   "source": [
    "![](https://adoptostaging.blob.core.windows.net/media/employee-attrition-reasons-9LIqMv.jpg)"
   ]
  },
  {
   "cell_type": "markdown",
   "metadata": {
    "id": "AHmt88Q5EVsj"
   },
   "source": [
    "## 0.환경설정"
   ]
  },
  {
   "cell_type": "markdown",
   "metadata": {
    "id": "KnzVh2LmkLDU"
   },
   "source": [
    "### 1) 라이브러리 로딩"
   ]
  },
  {
   "cell_type": "code",
   "execution_count": 1,
   "metadata": {
    "colab": {
     "base_uri": "https://localhost:8080/"
    },
    "executionInfo": {
     "elapsed": 1814,
     "status": "ok",
     "timestamp": 1642116812855,
     "user": {
      "displayName": "한기영",
      "photoUrl": "https://lh3.googleusercontent.com/a/default-user=s64",
      "userId": "13049187003176135487"
     },
     "user_tz": -540
    },
    "id": "3rsQerEaELwI",
    "outputId": "311fa740-af96-4f17-df74-b950f836c97e"
   },
   "outputs": [],
   "source": [
    "import pandas as pd\n",
    "import numpy as np\n",
    "import matplotlib.pyplot as plt\n",
    "import seaborn as sns\n",
    "\n",
    "from statsmodels.graphics.mosaicplot import mosaic\n",
    "from scipy import stats as spst\n",
    "import statsmodels.api as sm"
   ]
  },
  {
   "cell_type": "markdown",
   "metadata": {
    "id": "5Qh5KYWokO_N"
   },
   "source": [
    "### 2) 데이터 로딩"
   ]
  },
  {
   "cell_type": "code",
   "execution_count": 2,
   "metadata": {
    "colab": {
     "base_uri": "https://localhost:8080/",
     "height": 427
    },
    "executionInfo": {
     "elapsed": 276,
     "status": "ok",
     "timestamp": 1642116994336,
     "user": {
      "displayName": "한기영",
      "photoUrl": "https://lh3.googleusercontent.com/a/default-user=s64",
      "userId": "13049187003176135487"
     },
     "user_tz": -540
    },
    "id": "Bw5yZwT0MJKx",
    "outputId": "197c4587-f9a3-419f-c89a-745ff72ab54a"
   },
   "outputs": [
    {
     "data": {
      "text/html": [
       "<div>\n",
       "<style scoped>\n",
       "    .dataframe tbody tr th:only-of-type {\n",
       "        vertical-align: middle;\n",
       "    }\n",
       "\n",
       "    .dataframe tbody tr th {\n",
       "        vertical-align: top;\n",
       "    }\n",
       "\n",
       "    .dataframe thead th {\n",
       "        text-align: right;\n",
       "    }\n",
       "</style>\n",
       "<table border=\"1\" class=\"dataframe\">\n",
       "  <thead>\n",
       "    <tr style=\"text-align: right;\">\n",
       "      <th></th>\n",
       "      <th>Attrition</th>\n",
       "      <th>Age</th>\n",
       "      <th>DistanceFromHome</th>\n",
       "      <th>Gender</th>\n",
       "      <th>JobSatisfaction</th>\n",
       "      <th>MaritalStatus</th>\n",
       "      <th>MonthlyIncome</th>\n",
       "      <th>NumCompaniesWorked</th>\n",
       "      <th>OverTime</th>\n",
       "      <th>PercentSalaryHike</th>\n",
       "      <th>RelationshipSatisfaction</th>\n",
       "      <th>TotalWorkingYears</th>\n",
       "      <th>WorkLifeBalance</th>\n",
       "    </tr>\n",
       "  </thead>\n",
       "  <tbody>\n",
       "    <tr>\n",
       "      <th>0</th>\n",
       "      <td>0</td>\n",
       "      <td>33</td>\n",
       "      <td>7.0</td>\n",
       "      <td>Male</td>\n",
       "      <td>3</td>\n",
       "      <td>Married</td>\n",
       "      <td>11691</td>\n",
       "      <td>0.0</td>\n",
       "      <td>No</td>\n",
       "      <td>11</td>\n",
       "      <td>4</td>\n",
       "      <td>14</td>\n",
       "      <td>4</td>\n",
       "    </tr>\n",
       "    <tr>\n",
       "      <th>1</th>\n",
       "      <td>0</td>\n",
       "      <td>35</td>\n",
       "      <td>18.0</td>\n",
       "      <td>Male</td>\n",
       "      <td>4</td>\n",
       "      <td>Single</td>\n",
       "      <td>9362</td>\n",
       "      <td>2.0</td>\n",
       "      <td>No</td>\n",
       "      <td>11</td>\n",
       "      <td>3</td>\n",
       "      <td>10</td>\n",
       "      <td>3</td>\n",
       "    </tr>\n",
       "    <tr>\n",
       "      <th>2</th>\n",
       "      <td>0</td>\n",
       "      <td>42</td>\n",
       "      <td>6.0</td>\n",
       "      <td>Male</td>\n",
       "      <td>1</td>\n",
       "      <td>Married</td>\n",
       "      <td>13348</td>\n",
       "      <td>9.0</td>\n",
       "      <td>No</td>\n",
       "      <td>13</td>\n",
       "      <td>2</td>\n",
       "      <td>18</td>\n",
       "      <td>4</td>\n",
       "    </tr>\n",
       "    <tr>\n",
       "      <th>3</th>\n",
       "      <td>0</td>\n",
       "      <td>46</td>\n",
       "      <td>2.0</td>\n",
       "      <td>Female</td>\n",
       "      <td>1</td>\n",
       "      <td>Married</td>\n",
       "      <td>17048</td>\n",
       "      <td>8.0</td>\n",
       "      <td>No</td>\n",
       "      <td>23</td>\n",
       "      <td>1</td>\n",
       "      <td>28</td>\n",
       "      <td>3</td>\n",
       "    </tr>\n",
       "    <tr>\n",
       "      <th>4</th>\n",
       "      <td>0</td>\n",
       "      <td>39</td>\n",
       "      <td>NaN</td>\n",
       "      <td>Male</td>\n",
       "      <td>4</td>\n",
       "      <td>Divorced</td>\n",
       "      <td>4127</td>\n",
       "      <td>2.0</td>\n",
       "      <td>No</td>\n",
       "      <td>18</td>\n",
       "      <td>4</td>\n",
       "      <td>7</td>\n",
       "      <td>3</td>\n",
       "    </tr>\n",
       "    <tr>\n",
       "      <th>5</th>\n",
       "      <td>1</td>\n",
       "      <td>22</td>\n",
       "      <td>4.0</td>\n",
       "      <td>Male</td>\n",
       "      <td>3</td>\n",
       "      <td>Single</td>\n",
       "      <td>3894</td>\n",
       "      <td>5.0</td>\n",
       "      <td>No</td>\n",
       "      <td>16</td>\n",
       "      <td>3</td>\n",
       "      <td>4</td>\n",
       "      <td>3</td>\n",
       "    </tr>\n",
       "    <tr>\n",
       "      <th>6</th>\n",
       "      <td>0</td>\n",
       "      <td>24</td>\n",
       "      <td>21.0</td>\n",
       "      <td>Male</td>\n",
       "      <td>1</td>\n",
       "      <td>Divorced</td>\n",
       "      <td>2296</td>\n",
       "      <td>0.0</td>\n",
       "      <td>No</td>\n",
       "      <td>14</td>\n",
       "      <td>2</td>\n",
       "      <td>2</td>\n",
       "      <td>3</td>\n",
       "    </tr>\n",
       "    <tr>\n",
       "      <th>7</th>\n",
       "      <td>0</td>\n",
       "      <td>34</td>\n",
       "      <td>8.0</td>\n",
       "      <td>Male</td>\n",
       "      <td>3</td>\n",
       "      <td>Married</td>\n",
       "      <td>4404</td>\n",
       "      <td>2.0</td>\n",
       "      <td>No</td>\n",
       "      <td>12</td>\n",
       "      <td>1</td>\n",
       "      <td>6</td>\n",
       "      <td>4</td>\n",
       "    </tr>\n",
       "    <tr>\n",
       "      <th>8</th>\n",
       "      <td>0</td>\n",
       "      <td>30</td>\n",
       "      <td>20.0</td>\n",
       "      <td>Male</td>\n",
       "      <td>1</td>\n",
       "      <td>Married</td>\n",
       "      <td>9957</td>\n",
       "      <td>0.0</td>\n",
       "      <td>No</td>\n",
       "      <td>15</td>\n",
       "      <td>3</td>\n",
       "      <td>7</td>\n",
       "      <td>2</td>\n",
       "    </tr>\n",
       "    <tr>\n",
       "      <th>9</th>\n",
       "      <td>0</td>\n",
       "      <td>26</td>\n",
       "      <td>6.0</td>\n",
       "      <td>Female</td>\n",
       "      <td>4</td>\n",
       "      <td>Married</td>\n",
       "      <td>2659</td>\n",
       "      <td>1.0</td>\n",
       "      <td>Yes</td>\n",
       "      <td>13</td>\n",
       "      <td>3</td>\n",
       "      <td>3</td>\n",
       "      <td>3</td>\n",
       "    </tr>\n",
       "  </tbody>\n",
       "</table>\n",
       "</div>"
      ],
      "text/plain": [
       "   Attrition  Age  DistanceFromHome  Gender  JobSatisfaction MaritalStatus  \\\n",
       "0          0   33               7.0    Male                3       Married   \n",
       "1          0   35              18.0    Male                4        Single   \n",
       "2          0   42               6.0    Male                1       Married   \n",
       "3          0   46               2.0  Female                1       Married   \n",
       "4          0   39               NaN    Male                4      Divorced   \n",
       "5          1   22               4.0    Male                3        Single   \n",
       "6          0   24              21.0    Male                1      Divorced   \n",
       "7          0   34               8.0    Male                3       Married   \n",
       "8          0   30              20.0    Male                1       Married   \n",
       "9          0   26               6.0  Female                4       Married   \n",
       "\n",
       "   MonthlyIncome  NumCompaniesWorked OverTime  PercentSalaryHike  \\\n",
       "0          11691                 0.0       No                 11   \n",
       "1           9362                 2.0       No                 11   \n",
       "2          13348                 9.0       No                 13   \n",
       "3          17048                 8.0       No                 23   \n",
       "4           4127                 2.0       No                 18   \n",
       "5           3894                 5.0       No                 16   \n",
       "6           2296                 0.0       No                 14   \n",
       "7           4404                 2.0       No                 12   \n",
       "8           9957                 0.0       No                 15   \n",
       "9           2659                 1.0      Yes                 13   \n",
       "\n",
       "   RelationshipSatisfaction  TotalWorkingYears  WorkLifeBalance  \n",
       "0                         4                 14                4  \n",
       "1                         3                 10                3  \n",
       "2                         2                 18                4  \n",
       "3                         1                 28                3  \n",
       "4                         4                  7                3  \n",
       "5                         3                  4                3  \n",
       "6                         2                  2                3  \n",
       "7                         1                  6                4  \n",
       "8                         3                  7                2  \n",
       "9                         3                  3                3  "
      ]
     },
     "execution_count": 2,
     "metadata": {},
     "output_type": "execute_result"
    }
   ],
   "source": [
    "# data data\n",
    "path = \"https://raw.githubusercontent.com/DA4BAM/dataset/master/Attrition_NA.CSV\"\n",
    "data = pd.read_csv(path)\n",
    "data.drop(['EducationField', 'Education','JobInvolvement', 'StockOptionLevel', 'BusinessTravel','YearsWithCurrManager'\n",
    ",'YearsInCurrentRole','JobRole', 'Department','EmployeeNumber','EnvironmentSatisfaction','TrainingTimesLastYear','YearsAtCompany']\n",
    "          , axis = 1, inplace = True)\n",
    "data['Attrition'] = np.where(data['Attrition']=='Yes', 1, 0)\n",
    "data.head(10)"
   ]
  },
  {
   "cell_type": "markdown",
   "metadata": {
    "id": "v50TP8BhMJKx"
   },
   "source": [
    "|\t구분\t|\t변수 명\t|\t내용\t|\ttype\t|\t비고\t|\n",
    "|\t----\t|\t----\t|\t----\t|\t----\t|\t----\t|\n",
    "|\t**Target**\t|\t**Attrition**\t|\t이직여부, Yes , No\t|\t범주\t| 1- 이직, 0- 잔류\t\t|\n",
    "|\tfeature\t|\tAge\t|\t나이\t|\t숫자\t|\t\t|\n",
    "|\tfeature\t|\tDistanceFromHome\t|\t집-직장 거리\t|\t숫자\t|\t마일\t|\n",
    "|\tfeature\t|\tGender\t|\t성별\t|\t범주\t| Male, Female\t\t|\n",
    "|\tfeature\t|\tJobSatisfaction\t|\t직무 만족도\t|\t범주\t|\t1 Low, 2 Medium, 3 High, 4 Very High\t|\n",
    "|\tfeature\t|\tMaritalStatus\t|\t결혼상태\t|\t범주\t| Single, Married, Divorced\t\t|\n",
    "|\tfeature\t|\tMonthlyIncome\t|\t월급\t|\t숫자\t| 달러\t|\n",
    "|\tfeature\t|\tNumCompaniesWorked\t|\t입사 전 근무한 회사 수\t|\t숫자\t|\t0 - 우리회사가 첫 직장\t|\n",
    "|\tfeature\t|\tRelationshipSatisfaction\t|\t동료와의 관계\t|\t범주\t| 1 Low, 2 Medium, 3 High, 4 Very High\t\t|\n",
    "|\tfeature\t|\tOverTime\t|\t야근여부\t|\t범주\t|\tYes, No\t|\n",
    "|\tfeature\t|\tPercentSalaryHike\t|\t전년대비 급여인상율\t|\t숫자\t|\t%\t|\n",
    "|\tfeature\t|\tTotalWorkingYears\t|\t총 경력 연수\t|\t숫자\t|\t\t|\n",
    "|\tfeature\t|\tWorkLifeBalance\t|\t워라밸. 일-삶 균형도\t|\t범주\t|\t1 Bad, 2 Good, 3 Better, 4 Best\t|"
   ]
  },
  {
   "cell_type": "markdown",
   "metadata": {},
   "source": [
    "* 분석 단위 : 직원 한사람, 한사람...\n",
    "* 설명에서 언급되어지지 않은 사항은 직접 고민하며 스스로 정해서 진행하시면 됩니다.^^\n",
    "* 자\\~! 이제 시작해 봅시다\\~!"
   ]
  },
  {
   "cell_type": "code",
   "execution_count": 9,
   "metadata": {},
   "outputs": [
    {
     "name": "stdout",
     "output_type": "stream",
     "text": [
      "Attrition                      1.000000\n",
      "Age                           33.375000\n",
      "DistanceFromHome              10.774359\n",
      "JobSatisfaction                2.515000\n",
      "MonthlyIncome               4738.125000\n",
      "NumCompaniesWorked             2.984925\n",
      "PercentSalaryHike             15.265000\n",
      "RelationshipSatisfaction       2.585000\n",
      "TotalWorkingYears              8.035000\n",
      "WorkLifeBalance                2.700000\n",
      "dtype: float64\n",
      "Attrition                      0.000000\n",
      "Age                           37.608571\n",
      "DistanceFromHome               8.963037\n",
      "JobSatisfaction                2.770476\n",
      "MonthlyIncome               6866.009524\n",
      "NumCompaniesWorked             2.619417\n",
      "PercentSalaryHike             15.206667\n",
      "RelationshipSatisfaction       2.742857\n",
      "TotalWorkingYears             11.968571\n",
      "WorkLifeBalance                2.773333\n",
      "dtype: float64\n",
      "0.16\n"
     ]
    },
    {
     "data": {
      "text/html": [
       "<div>\n",
       "<style scoped>\n",
       "    .dataframe tbody tr th:only-of-type {\n",
       "        vertical-align: middle;\n",
       "    }\n",
       "\n",
       "    .dataframe tbody tr th {\n",
       "        vertical-align: top;\n",
       "    }\n",
       "\n",
       "    .dataframe thead th {\n",
       "        text-align: right;\n",
       "    }\n",
       "</style>\n",
       "<table border=\"1\" class=\"dataframe\">\n",
       "  <thead>\n",
       "    <tr style=\"text-align: right;\">\n",
       "      <th></th>\n",
       "      <th>Attrition</th>\n",
       "      <th>Age</th>\n",
       "      <th>DistanceFromHome</th>\n",
       "      <th>Gender</th>\n",
       "      <th>JobSatisfaction</th>\n",
       "      <th>MaritalStatus</th>\n",
       "      <th>MonthlyIncome</th>\n",
       "      <th>NumCompaniesWorked</th>\n",
       "      <th>OverTime</th>\n",
       "      <th>PercentSalaryHike</th>\n",
       "      <th>RelationshipSatisfaction</th>\n",
       "      <th>TotalWorkingYears</th>\n",
       "      <th>WorkLifeBalance</th>\n",
       "    </tr>\n",
       "  </thead>\n",
       "  <tbody>\n",
       "    <tr>\n",
       "      <th>5</th>\n",
       "      <td>1</td>\n",
       "      <td>22</td>\n",
       "      <td>4.0</td>\n",
       "      <td>Male</td>\n",
       "      <td>3</td>\n",
       "      <td>Single</td>\n",
       "      <td>3894</td>\n",
       "      <td>5.0</td>\n",
       "      <td>No</td>\n",
       "      <td>16</td>\n",
       "      <td>3</td>\n",
       "      <td>4</td>\n",
       "      <td>3</td>\n",
       "    </tr>\n",
       "    <tr>\n",
       "      <th>10</th>\n",
       "      <td>1</td>\n",
       "      <td>24</td>\n",
       "      <td>3.0</td>\n",
       "      <td>Female</td>\n",
       "      <td>3</td>\n",
       "      <td>Single</td>\n",
       "      <td>4577</td>\n",
       "      <td>9.0</td>\n",
       "      <td>No</td>\n",
       "      <td>14</td>\n",
       "      <td>1</td>\n",
       "      <td>4</td>\n",
       "      <td>3</td>\n",
       "    </tr>\n",
       "    <tr>\n",
       "      <th>12</th>\n",
       "      <td>1</td>\n",
       "      <td>33</td>\n",
       "      <td>15.0</td>\n",
       "      <td>Male</td>\n",
       "      <td>3</td>\n",
       "      <td>Married</td>\n",
       "      <td>13610</td>\n",
       "      <td>7.0</td>\n",
       "      <td>Yes</td>\n",
       "      <td>12</td>\n",
       "      <td>4</td>\n",
       "      <td>15</td>\n",
       "      <td>4</td>\n",
       "    </tr>\n",
       "    <tr>\n",
       "      <th>18</th>\n",
       "      <td>1</td>\n",
       "      <td>58</td>\n",
       "      <td>2.0</td>\n",
       "      <td>Male</td>\n",
       "      <td>4</td>\n",
       "      <td>Divorced</td>\n",
       "      <td>2380</td>\n",
       "      <td>9.0</td>\n",
       "      <td>Yes</td>\n",
       "      <td>14</td>\n",
       "      <td>4</td>\n",
       "      <td>3</td>\n",
       "      <td>2</td>\n",
       "    </tr>\n",
       "    <tr>\n",
       "      <th>22</th>\n",
       "      <td>1</td>\n",
       "      <td>32</td>\n",
       "      <td>7.0</td>\n",
       "      <td>Male</td>\n",
       "      <td>3</td>\n",
       "      <td>Married</td>\n",
       "      <td>4883</td>\n",
       "      <td>1.0</td>\n",
       "      <td>No</td>\n",
       "      <td>18</td>\n",
       "      <td>1</td>\n",
       "      <td>10</td>\n",
       "      <td>3</td>\n",
       "    </tr>\n",
       "    <tr>\n",
       "      <th>...</th>\n",
       "      <td>...</td>\n",
       "      <td>...</td>\n",
       "      <td>...</td>\n",
       "      <td>...</td>\n",
       "      <td>...</td>\n",
       "      <td>...</td>\n",
       "      <td>...</td>\n",
       "      <td>...</td>\n",
       "      <td>...</td>\n",
       "      <td>...</td>\n",
       "      <td>...</td>\n",
       "      <td>...</td>\n",
       "      <td>...</td>\n",
       "    </tr>\n",
       "    <tr>\n",
       "      <th>1213</th>\n",
       "      <td>1</td>\n",
       "      <td>34</td>\n",
       "      <td>23.0</td>\n",
       "      <td>Female</td>\n",
       "      <td>1</td>\n",
       "      <td>Divorced</td>\n",
       "      <td>9950</td>\n",
       "      <td>9.0</td>\n",
       "      <td>Yes</td>\n",
       "      <td>15</td>\n",
       "      <td>3</td>\n",
       "      <td>11</td>\n",
       "      <td>3</td>\n",
       "    </tr>\n",
       "    <tr>\n",
       "      <th>1216</th>\n",
       "      <td>1</td>\n",
       "      <td>19</td>\n",
       "      <td>NaN</td>\n",
       "      <td>Female</td>\n",
       "      <td>2</td>\n",
       "      <td>Single</td>\n",
       "      <td>1859</td>\n",
       "      <td>1.0</td>\n",
       "      <td>Yes</td>\n",
       "      <td>25</td>\n",
       "      <td>2</td>\n",
       "      <td>1</td>\n",
       "      <td>4</td>\n",
       "    </tr>\n",
       "    <tr>\n",
       "      <th>1227</th>\n",
       "      <td>1</td>\n",
       "      <td>22</td>\n",
       "      <td>3.0</td>\n",
       "      <td>Male</td>\n",
       "      <td>4</td>\n",
       "      <td>Married</td>\n",
       "      <td>2853</td>\n",
       "      <td>0.0</td>\n",
       "      <td>Yes</td>\n",
       "      <td>11</td>\n",
       "      <td>2</td>\n",
       "      <td>1</td>\n",
       "      <td>3</td>\n",
       "    </tr>\n",
       "    <tr>\n",
       "      <th>1230</th>\n",
       "      <td>1</td>\n",
       "      <td>19</td>\n",
       "      <td>21.0</td>\n",
       "      <td>Male</td>\n",
       "      <td>2</td>\n",
       "      <td>Single</td>\n",
       "      <td>2121</td>\n",
       "      <td>1.0</td>\n",
       "      <td>Yes</td>\n",
       "      <td>13</td>\n",
       "      <td>2</td>\n",
       "      <td>1</td>\n",
       "      <td>4</td>\n",
       "    </tr>\n",
       "    <tr>\n",
       "      <th>1239</th>\n",
       "      <td>1</td>\n",
       "      <td>26</td>\n",
       "      <td>20.0</td>\n",
       "      <td>Female</td>\n",
       "      <td>2</td>\n",
       "      <td>Married</td>\n",
       "      <td>2148</td>\n",
       "      <td>0.0</td>\n",
       "      <td>Yes</td>\n",
       "      <td>11</td>\n",
       "      <td>3</td>\n",
       "      <td>6</td>\n",
       "      <td>3</td>\n",
       "    </tr>\n",
       "  </tbody>\n",
       "</table>\n",
       "<p>200 rows × 13 columns</p>\n",
       "</div>"
      ],
      "text/plain": [
       "      Attrition  Age  DistanceFromHome  Gender  JobSatisfaction MaritalStatus  \\\n",
       "5             1   22               4.0    Male                3        Single   \n",
       "10            1   24               3.0  Female                3        Single   \n",
       "12            1   33              15.0    Male                3       Married   \n",
       "18            1   58               2.0    Male                4      Divorced   \n",
       "22            1   32               7.0    Male                3       Married   \n",
       "...         ...  ...               ...     ...              ...           ...   \n",
       "1213          1   34              23.0  Female                1      Divorced   \n",
       "1216          1   19               NaN  Female                2        Single   \n",
       "1227          1   22               3.0    Male                4       Married   \n",
       "1230          1   19              21.0    Male                2        Single   \n",
       "1239          1   26              20.0  Female                2       Married   \n",
       "\n",
       "      MonthlyIncome  NumCompaniesWorked OverTime  PercentSalaryHike  \\\n",
       "5              3894                 5.0       No                 16   \n",
       "10             4577                 9.0       No                 14   \n",
       "12            13610                 7.0      Yes                 12   \n",
       "18             2380                 9.0      Yes                 14   \n",
       "22             4883                 1.0       No                 18   \n",
       "...             ...                 ...      ...                ...   \n",
       "1213           9950                 9.0      Yes                 15   \n",
       "1216           1859                 1.0      Yes                 25   \n",
       "1227           2853                 0.0      Yes                 11   \n",
       "1230           2121                 1.0      Yes                 13   \n",
       "1239           2148                 0.0      Yes                 11   \n",
       "\n",
       "      RelationshipSatisfaction  TotalWorkingYears  WorkLifeBalance  \n",
       "5                            3                  4                3  \n",
       "10                           1                  4                3  \n",
       "12                           4                 15                4  \n",
       "18                           4                  3                2  \n",
       "22                           1                 10                3  \n",
       "...                        ...                ...              ...  \n",
       "1213                         3                 11                3  \n",
       "1216                         2                  1                4  \n",
       "1227                         2                  1                3  \n",
       "1230                         2                  1                4  \n",
       "1239                         3                  6                3  \n",
       "\n",
       "[200 rows x 13 columns]"
      ]
     },
     "execution_count": 9,
     "metadata": {},
     "output_type": "execute_result"
    }
   ],
   "source": [
    "print(data.loc[data.Attrition==1,:].mean())\n",
    "print(data.loc[data.Attrition==0,:].mean())\n",
    "print(data.Attrition.mean())\n",
    "data.loc[data.Attrition==1,:]"
   ]
  },
  {
   "cell_type": "markdown",
   "metadata": {
    "id": "bKimk8qVm8oC"
   },
   "source": [
    "----"
   ]
  },
  {
   "cell_type": "markdown",
   "metadata": {
    "id": "0bouXLxGkSSd"
   },
   "source": [
    "## 1.가설수립"
   ]
  },
  {
   "cell_type": "markdown",
   "metadata": {
    "id": "nb3mes75kUSt"
   },
   "source": [
    "* 여기서는 가설을 간략히 수립합니다.\n",
    "    * 숫자형, 범주형 각각 최소 3개 이상씩, 전체 6개 이상의 변수를 도출, 가설을 수립하시오."
   ]
  },
  {
   "cell_type": "markdown",
   "metadata": {
    "id": "HoZUdXCRkjK9"
   },
   "source": [
    "* 가설1 : 남자는 워라밸, 여자는 동료와의 관계가 이직률에 더 높은 영향을 끼칠 것이다."
   ]
  },
  {
   "cell_type": "markdown",
   "metadata": {
    "id": "l9X_boJ8kjEt"
   },
   "source": [
    "* 가설2 : 평균근무 년차가 작을수록 이직률이 높을 것이다."
   ]
  },
  {
   "cell_type": "markdown",
   "metadata": {
    "id": "3_gTMgCWki91"
   },
   "source": [
    "* 가설3 : 전년 대비 상승금액이 클수록 이직률이 낮을 것이다."
   ]
  },
  {
   "cell_type": "markdown",
   "metadata": {
    "id": "rSrSFnsVki2d"
   },
   "source": [
    "* 가설4 : 결혼여부는 이직률에 큰 영향을 끼칠 것이다."
   ]
  },
  {
   "cell_type": "markdown",
   "metadata": {
    "id": "2lueFYjWktYt"
   },
   "source": [
    "* 가설5 : 나이대가 어릴수록 이직률이 높을 것이다."
   ]
  },
  {
   "cell_type": "markdown",
   "metadata": {
    "id": "U1RiPfhgYCr_"
   },
   "source": [
    "* 가설6 : 거리가 멀수록 이직률이 높아짐."
   ]
  },
  {
   "cell_type": "markdown",
   "metadata": {
    "id": "82xzJIZhnAaX"
   },
   "source": [
    "----"
   ]
  },
  {
   "cell_type": "markdown",
   "metadata": {
    "id": "1hYPpnplEedX"
   },
   "source": [
    "## 2.단변량 분석\n",
    "\n",
    "① 변수의 비즈니스 의미  \n",
    "\n",
    "② 숫자? 범주?  \n",
    "\n",
    "③ NaN 존재 여부 및 조치 방안  \n",
    "\n",
    "④ 기초통계량  \n",
    "\n",
    "⑤ 분포  \n",
    "\n",
    "⑥ 위 정보로부터 파악한 내용(비즈니스!) 정리  \n",
    "\n",
    "⑦ 추가 분석해볼 사항 도출"
   ]
  },
  {
   "cell_type": "code",
   "execution_count": 3,
   "metadata": {},
   "outputs": [
    {
     "data": {
      "text/plain": [
       "Attrition                    0\n",
       "Age                          0\n",
       "DistanceFromHome            54\n",
       "Gender                       0\n",
       "JobSatisfaction              0\n",
       "MaritalStatus                0\n",
       "MonthlyIncome                0\n",
       "NumCompaniesWorked          21\n",
       "OverTime                     0\n",
       "PercentSalaryHike            0\n",
       "RelationshipSatisfaction     0\n",
       "TotalWorkingYears            0\n",
       "WorkLifeBalance              0\n",
       "dtype: int64"
      ]
     },
     "execution_count": 3,
     "metadata": {},
     "output_type": "execute_result"
    }
   ],
   "source": [
    "data.isna().sum()"
   ]
  },
  {
   "cell_type": "markdown",
   "metadata": {
    "id": "BP8iBi7We3AI"
   },
   "source": [
    "### 1) target"
   ]
  },
  {
   "cell_type": "code",
   "execution_count": 11,
   "metadata": {
    "id": "9eV5dkLkMm78"
   },
   "outputs": [],
   "source": [
    "t = 'Attrition'"
   ]
  },
  {
   "cell_type": "markdown",
   "metadata": {
    "id": "Lysg2B-nMm3o"
   },
   "source": [
    "이직여부 Yes-1 / No-0"
   ]
  },
  {
   "cell_type": "code",
   "execution_count": 13,
   "metadata": {
    "id": "fobisq_wMmzL"
   },
   "outputs": [
    {
     "data": {
      "text/plain": [
       "0    1050\n",
       "1     200\n",
       "Name: Attrition, dtype: int64"
      ]
     },
     "execution_count": 13,
     "metadata": {},
     "output_type": "execute_result"
    }
   ],
   "source": [
    "data[t].value_counts()"
   ]
  },
  {
   "cell_type": "code",
   "execution_count": 14,
   "metadata": {
    "id": "42ZDPDmKMmu8"
   },
   "outputs": [
    {
     "name": "stderr",
     "output_type": "stream",
     "text": [
      "C:\\Users\\User\\anaconda3\\lib\\site-packages\\seaborn\\_decorators.py:36: FutureWarning: Pass the following variable as a keyword arg: x. From version 0.12, the only valid positional argument will be `data`, and passing other arguments without an explicit keyword will result in an error or misinterpretation.\n",
      "  warnings.warn(\n"
     ]
    },
    {
     "data": {
      "image/png": "[encoded data removed]",
      "text/plain": [
       "<Figure size 432x288 with 1 Axes>"
      ]
     },
     "metadata": {
      "needs_background": "light"
     },
     "output_type": "display_data"
    }
   ],
   "source": [
    "sns.countplot(data[t])\n",
    "plt.show()"
   ]
  },
  {
   "cell_type": "markdown",
   "metadata": {
    "id": "1b7NizWlMmqk"
   },
   "source": [
    "총 이직률은 0.16"
   ]
  },
  {
   "cell_type": "markdown",
   "metadata": {
    "id": "TLlMg3cNMoRg"
   },
   "source": [
    "### 2) feature1"
   ]
  },
  {
   "cell_type": "code",
   "execution_count": 79,
   "metadata": {
    "id": "fkRE6s1WMoRh"
   },
   "outputs": [],
   "source": [
    "f = 'MonthlyIncome'"
   ]
  },
  {
   "cell_type": "markdown",
   "metadata": {
    "id": "BlknRQSKMoRi"
   },
   "source": [
    "월급 (달러)"
   ]
  },
  {
   "cell_type": "code",
   "execution_count": 80,
   "metadata": {
    "id": "lNQhfu9uMoRi"
   },
   "outputs": [
    {
     "data": {
      "text/plain": [
       "count     1250.000000\n",
       "mean      6525.548000\n",
       "std       4676.979554\n",
       "min       1009.000000\n",
       "25%       2932.250000\n",
       "50%       4988.000000\n",
       "75%       8437.500000\n",
       "max      19999.000000\n",
       "Name: MonthlyIncome, dtype: float64"
      ]
     },
     "execution_count": 80,
     "metadata": {},
     "output_type": "execute_result"
    }
   ],
   "source": [
    "data[f].describe()"
   ]
  },
  {
   "cell_type": "code",
   "execution_count": 81,
   "metadata": {
    "id": "yQih09bhMoRj"
   },
   "outputs": [
    {
     "data": {
      "image/png": "[encoded data removed]",
      "text/plain": [
       "<Figure size 432x288 with 1 Axes>"
      ]
     },
     "metadata": {
      "needs_background": "light"
     },
     "output_type": "display_data"
    },
    {
     "data": {
      "image/png": "[encoded data removed]",
      "text/plain": [
       "<Figure size 432x288 with 1 Axes>"
      ]
     },
     "metadata": {
      "needs_background": "light"
     },
     "output_type": "display_data"
    }
   ],
   "source": [
    "sns.histplot(data[f], bins = 40)\n",
    "plt.show()\n",
    "box = plt.boxplot(data[f])\n",
    "plt.show()"
   ]
  },
  {
   "cell_type": "code",
   "execution_count": 85,
   "metadata": {},
   "outputs": [
    {
     "name": "stdout",
     "output_type": "stream",
     "text": [
      "0.29073482428115016\n",
      "0.14423076923076922\n",
      "0.10576923076923077\n",
      "0.09904153354632587\n"
     ]
    }
   ],
   "source": [
    "print(data.loc[(data['MonthlyIncome']<=2932),'Attrition'].mean())\n",
    "print(data.loc[(data['MonthlyIncome']>2932)&(data['MonthlyIncome']<=4988),'Attrition'].mean())\n",
    "print(data.loc[(data['MonthlyIncome']>4988)&(data['MonthlyIncome']<=8437),'Attrition'].mean())\n",
    "print(data.loc[(data['MonthlyIncome']>8437),'Attrition'].mean())"
   ]
  },
  {
   "cell_type": "markdown",
   "metadata": {
    "id": "zcV7pMeiMoRj"
   },
   "source": [
    "- 2000불 대의 저연봉자가 많다 10000불 이상부터는 약 3000불 간격으로 사람이 많아지는 것을 보아 연봉인상률을 추측가능\n",
    "- 연봉이 상승함에 따라 이직률이 줄어드는 모습을 보인다"
   ]
  },
  {
   "cell_type": "markdown",
   "metadata": {
    "id": "nJmYs7WgMzti"
   },
   "source": [
    "### 3) feature2"
   ]
  },
  {
   "cell_type": "code",
   "execution_count": 18,
   "metadata": {
    "id": "5g4kd3rGMzti"
   },
   "outputs": [],
   "source": [
    "f = 'WorkLifeBalance'"
   ]
  },
  {
   "cell_type": "markdown",
   "metadata": {
    "id": "nrGVu8e1Mzti"
   },
   "source": [
    "워라밸 여부 (4범주로 분류)"
   ]
  },
  {
   "cell_type": "code",
   "execution_count": 19,
   "metadata": {
    "id": "1RFdrKBXMzti"
   },
   "outputs": [
    {
     "data": {
      "text/plain": [
       "3    747\n",
       "2    297\n",
       "4    137\n",
       "1     69\n",
       "Name: WorkLifeBalance, dtype: int64"
      ]
     },
     "execution_count": 19,
     "metadata": {},
     "output_type": "execute_result"
    }
   ],
   "source": [
    "data[f].value_counts()"
   ]
  },
  {
   "cell_type": "code",
   "execution_count": 21,
   "metadata": {
    "id": "KOaH7I74Mztj"
   },
   "outputs": [
    {
     "name": "stderr",
     "output_type": "stream",
     "text": [
      "C:\\Users\\User\\anaconda3\\lib\\site-packages\\seaborn\\_decorators.py:36: FutureWarning: Pass the following variable as a keyword arg: x. From version 0.12, the only valid positional argument will be `data`, and passing other arguments without an explicit keyword will result in an error or misinterpretation.\n",
      "  warnings.warn(\n"
     ]
    },
    {
     "data": {
      "image/png": "[encoded data removed]",
      "text/plain": [
       "<Figure size 432x288 with 1 Axes>"
      ]
     },
     "metadata": {
      "needs_background": "light"
     },
     "output_type": "display_data"
    }
   ],
   "source": [
    "sns.countplot(data[f])\n",
    "plt.show()"
   ]
  },
  {
   "cell_type": "code",
   "execution_count": 52,
   "metadata": {
    "id": "KnqktAYhMztj"
   },
   "outputs": [
    {
     "name": "stdout",
     "output_type": "stream",
     "text": [
      "0.3170731707317073\n",
      "0.1912568306010929\n",
      "0.15883668903803133\n",
      "0.1348314606741573\n"
     ]
    }
   ],
   "source": [
    "for i in range(1,5):\n",
    "    print(data.loc[(data['WorkLifeBalance']==i)&(data['Gender']=='Male'),'Attrition'].mean())"
   ]
  },
  {
   "cell_type": "code",
   "execution_count": 53,
   "metadata": {},
   "outputs": [
    {
     "name": "stdout",
     "output_type": "stream",
     "text": [
      "0.25\n",
      "0.09649122807017543\n",
      "0.12333333333333334\n",
      "0.2916666666666667\n"
     ]
    }
   ],
   "source": [
    "for i in range(1,5):\n",
    "    print(data.loc[(data['WorkLifeBalance']==i)&(data['Gender']=='Female'),'Attrition'].mean())"
   ]
  },
  {
   "cell_type": "markdown",
   "metadata": {},
   "source": [
    "일반적인 생각과 달리 워라밸이 최고라고 답한 사람들의 이직률이 2등을 기록하였다.\n",
    "- 이를 남녀로 나누어 분석한 결과 남자의 경우 워라밸의 평가에 따라 이직률이 낮아지는 예상과 같이 양상을 보였다.\n",
    "- 여자의 경우 워라밸을 최고라 평가한 경우가 이직률이 제일 높았는데 다른 심리적 요인이 추가된 것으로 판단됨."
   ]
  },
  {
   "cell_type": "markdown",
   "metadata": {
    "id": "0q616kYrM0VR"
   },
   "source": [
    "### 4) feature3"
   ]
  },
  {
   "cell_type": "code",
   "execution_count": 27,
   "metadata": {
    "id": "UCxGiRZbM0VS"
   },
   "outputs": [],
   "source": [
    "f = 'MaritalStatus'"
   ]
  },
  {
   "cell_type": "markdown",
   "metadata": {
    "id": "TDUbDHJYM0VS"
   },
   "source": [
    "결혼상태 : 상태에 따라 안정적인 결정을 추구할 확률이 다를 것이다.\n",
    "- 일반적인 예상 : 이직률은 결혼 < 이혼 < 싱글"
   ]
  },
  {
   "cell_type": "code",
   "execution_count": 28,
   "metadata": {
    "id": "zQuK2ak-M0VS"
   },
   "outputs": [
    {
     "data": {
      "text/plain": [
       "Married     570\n",
       "Single      404\n",
       "Divorced    276\n",
       "Name: MaritalStatus, dtype: int64"
      ]
     },
     "execution_count": 28,
     "metadata": {},
     "output_type": "execute_result"
    }
   ],
   "source": [
    "data[f].value_counts()"
   ]
  },
  {
   "cell_type": "code",
   "execution_count": 29,
   "metadata": {
    "id": "aMAsp214M0VS"
   },
   "outputs": [
    {
     "name": "stderr",
     "output_type": "stream",
     "text": [
      "C:\\Users\\User\\anaconda3\\lib\\site-packages\\seaborn\\_decorators.py:36: FutureWarning: Pass the following variable as a keyword arg: x. From version 0.12, the only valid positional argument will be `data`, and passing other arguments without an explicit keyword will result in an error or misinterpretation.\n",
      "  warnings.warn(\n"
     ]
    },
    {
     "data": {
      "image/png": "[encoded data removed]",
      "text/plain": [
       "<Figure size 432x288 with 1 Axes>"
      ]
     },
     "metadata": {
      "needs_background": "light"
     },
     "output_type": "display_data"
    }
   ],
   "source": [
    "sns.countplot(data[f])\n",
    "plt.show()"
   ]
  },
  {
   "cell_type": "code",
   "execution_count": 54,
   "metadata": {
    "id": "AHnxbvUVM0VS"
   },
   "outputs": [
    {
     "name": "stdout",
     "output_type": "stream",
     "text": [
      "0.12105263157894737\n",
      "0.26732673267326734\n",
      "0.08333333333333333\n"
     ]
    }
   ],
   "source": [
    "print(data.loc[data['MaritalStatus']=='Married','Attrition'].mean())\n",
    "print(data.loc[data['MaritalStatus']=='Single','Attrition'].mean())\n",
    "print(data.loc[data['MaritalStatus']=='Divorced','Attrition'].mean())"
   ]
  },
  {
   "cell_type": "code",
   "execution_count": 58,
   "metadata": {},
   "outputs": [
    {
     "name": "stdout",
     "output_type": "stream",
     "text": [
      "0.11061946902654868\n",
      "0.12790697674418605\n",
      "0.05102040816326531\n",
      "0.10112359550561797\n"
     ]
    }
   ],
   "source": [
    "print(data.loc[(data['MaritalStatus']=='Married')&(data['Gender']=='Female'),'Attrition'].mean())\n",
    "print(data.loc[(data['MaritalStatus']=='Married')&(data['Gender']=='Male'),'Attrition'].mean())\n",
    "print(data.loc[(data['MaritalStatus']=='Divorced')&(data['Gender']=='Female'),'Attrition'].mean())\n",
    "print(data.loc[(data['MaritalStatus']=='Divorced')&(data['Gender']=='Male'),'Attrition'].mean())"
   ]
  },
  {
   "cell_type": "markdown",
   "metadata": {},
   "source": [
    "이직률은 싱글이 제일 높고 결혼자가 이혼자보다 높았다\n",
    "- 배우자가 있어 위험한 선택 가능? or 이혼시 심리적 안정 추구?\n",
    "- 결혼, 이혼에 대한 남녀차이를 분석한 결과 결혼시는 남녀 차이가 없는 반면 이혼시 남자의 이직률이 2배 높았다\n",
    "- 이혼후 여성은 정서적 안정 추구, 남성은 변화를 추구하는 것으로 생각됨"
   ]
  },
  {
   "cell_type": "markdown",
   "metadata": {
    "id": "53vrba7gM04Z"
   },
   "source": [
    "### 5) feature4"
   ]
  },
  {
   "cell_type": "code",
   "execution_count": 32,
   "metadata": {
    "id": "Oq2lskkZM04Z"
   },
   "outputs": [],
   "source": [
    "f = 'Age'"
   ]
  },
  {
   "cell_type": "markdown",
   "metadata": {
    "id": "zSQou-YsM04a"
   },
   "source": [
    "나이\n",
    "- 나이가 작을수록 이직률이 높을 것이다 : 다양한 경험 가능, 시간적 여유.."
   ]
  },
  {
   "cell_type": "code",
   "execution_count": 33,
   "metadata": {
    "id": "npG6tj3FM04a"
   },
   "outputs": [
    {
     "data": {
      "text/plain": [
       "count    1250.000000\n",
       "mean       36.931200\n",
       "std         9.122162\n",
       "min        18.000000\n",
       "25%        30.000000\n",
       "50%        36.000000\n",
       "75%        43.000000\n",
       "max        60.000000\n",
       "Name: Age, dtype: float64"
      ]
     },
     "execution_count": 33,
     "metadata": {},
     "output_type": "execute_result"
    }
   ],
   "source": [
    "data[f].describe()"
   ]
  },
  {
   "cell_type": "code",
   "execution_count": 34,
   "metadata": {
    "id": "vFdBEk1yM04a"
   },
   "outputs": [
    {
     "data": {
      "image/png": "[encoded data removed]",
      "text/plain": [
       "<Figure size 432x288 with 1 Axes>"
      ]
     },
     "metadata": {
      "needs_background": "light"
     },
     "output_type": "display_data"
    },
    {
     "data": {
      "image/png": "[encoded data removed]",
      "text/plain": [
       "<Figure size 432x288 with 1 Axes>"
      ]
     },
     "metadata": {
      "needs_background": "light"
     },
     "output_type": "display_data"
    }
   ],
   "source": [
    "sns.histplot(data[f], bins = 40)\n",
    "plt.show()\n",
    "box = plt.boxplot(data[f])\n",
    "plt.show()"
   ]
  },
  {
   "cell_type": "code",
   "execution_count": 41,
   "metadata": {
    "id": "c9ngfTdAM04a"
   },
   "outputs": [
    {
     "name": "stdout",
     "output_type": "stream",
     "text": [
      "0.38235294117647056\n",
      "0.2183406113537118\n",
      "0.156794425087108\n",
      "0.10084033613445378\n",
      "0.09854014598540146\n",
      "0.125\n"
     ]
    }
   ],
   "source": [
    "print(data.loc[data['Age']<=25,'Attrition'].mean())\n",
    "print(data.loc[(data['Age']>25)&(data['Age']<=30),'Attrition'].mean())\n",
    "print(data.loc[(data['Age']>30)&(data['Age']<=35),'Attrition'].mean())\n",
    "print(data.loc[(data['Age']>35)&(data['Age']<=40),'Attrition'].mean())\n",
    "print(data.loc[(data['Age']>40)&(data['Age']<=50),'Attrition'].mean())\n",
    "print(data.loc[(data['Age']>50)&(data['Age']<=60),'Attrition'].mean())"
   ]
  },
  {
   "cell_type": "markdown",
   "metadata": {},
   "source": [
    "나이가 낮을수록 이직률이 줄어든다 + 50~60 사이에서 은퇴가 많은 회사"
   ]
  },
  {
   "cell_type": "markdown",
   "metadata": {
    "id": "opTBFVXvM1mx"
   },
   "source": [
    "### 6) feature5"
   ]
  },
  {
   "cell_type": "code",
   "execution_count": 42,
   "metadata": {
    "id": "x7RhTmPzM1mx"
   },
   "outputs": [],
   "source": [
    "f= 'DistanceFromHome'"
   ]
  },
  {
   "cell_type": "markdown",
   "metadata": {
    "id": "jA3dK_gZM1mx"
   },
   "source": [
    "직장과의 거리 (마일) : 거리가 멀수록 이직률이 클것이다."
   ]
  },
  {
   "cell_type": "code",
   "execution_count": 43,
   "metadata": {
    "id": "heP_bxuRM1mx"
   },
   "outputs": [
    {
     "data": {
      "text/plain": [
       "count    1196.000000\n",
       "mean        9.258361\n",
       "std         8.166016\n",
       "min         1.000000\n",
       "25%         2.000000\n",
       "50%         7.000000\n",
       "75%        14.000000\n",
       "max        29.000000\n",
       "Name: DistanceFromHome, dtype: float64"
      ]
     },
     "execution_count": 43,
     "metadata": {},
     "output_type": "execute_result"
    }
   ],
   "source": [
    "data[f].describe()"
   ]
  },
  {
   "cell_type": "code",
   "execution_count": 45,
   "metadata": {
    "id": "BkM5kJZGM1mx"
   },
   "outputs": [
    {
     "data": {
      "image/png": "[encoded data removed]",
      "text/plain": [
       "<Figure size 432x288 with 1 Axes>"
      ]
     },
     "metadata": {
      "needs_background": "light"
     },
     "output_type": "display_data"
    },
    {
     "data": {
      "image/png": "[encoded data removed]",
      "text/plain": [
       "<Figure size 432x288 with 1 Axes>"
      ]
     },
     "metadata": {
      "needs_background": "light"
     },
     "output_type": "display_data"
    }
   ],
   "source": [
    "sns.histplot(data[f], bins = 40)\n",
    "plt.show()\n",
    "plt.boxplot(data[f])\n",
    "plt.show()"
   ]
  },
  {
   "cell_type": "code",
   "execution_count": 47,
   "metadata": {
    "id": "_goZmj5fM1mx"
   },
   "outputs": [
    {
     "name": "stdout",
     "output_type": "stream",
     "text": [
      "0.13925570228091236\n",
      "0.20526315789473684\n",
      "0.23121387283236994\n"
     ]
    }
   ],
   "source": [
    "print(data.loc[data['DistanceFromHome']<=10,'Attrition'].mean())\n",
    "print(data.loc[(data['DistanceFromHome']>10)&(data['DistanceFromHome']<=20),'Attrition'].mean())\n",
    "print(data.loc[(data['DistanceFromHome']>20)&(data['DistanceFromHome']<=30),'Attrition'].mean())"
   ]
  },
  {
   "cell_type": "markdown",
   "metadata": {},
   "source": [
    "예상대로 거리가 멀수록 퇴사확률이 증가한다."
   ]
  },
  {
   "cell_type": "markdown",
   "metadata": {
    "id": "NFGBwz34YJG3"
   },
   "source": [
    "### 7) feature6"
   ]
  },
  {
   "cell_type": "code",
   "execution_count": 65,
   "metadata": {
    "id": "frPbHDAdYJG3"
   },
   "outputs": [],
   "source": [
    "f=\"TotalWorkingYears\""
   ]
  },
  {
   "cell_type": "markdown",
   "metadata": {
    "id": "EbfBgqqSYJG4"
   },
   "source": [
    "총 일한 경력수 (년) : 경력수가 짧을수록 이직률이 높아질 것이다."
   ]
  },
  {
   "cell_type": "code",
   "execution_count": 66,
   "metadata": {
    "id": "EfkydqbWYJG4"
   },
   "outputs": [
    {
     "data": {
      "text/plain": [
       "count    1250.00000\n",
       "mean       11.33920\n",
       "std         7.79687\n",
       "min         0.00000\n",
       "25%         6.00000\n",
       "50%        10.00000\n",
       "75%        15.00000\n",
       "max        40.00000\n",
       "Name: TotalWorkingYears, dtype: float64"
      ]
     },
     "execution_count": 66,
     "metadata": {},
     "output_type": "execute_result"
    }
   ],
   "source": [
    "data[f].describe()"
   ]
  },
  {
   "cell_type": "code",
   "execution_count": 67,
   "metadata": {
    "id": "xGqiBLNJYJG4"
   },
   "outputs": [
    {
     "data": {
      "image/png": "[encoded data removed]",
      "text/plain": [
       "<Figure size 432x288 with 1 Axes>"
      ]
     },
     "metadata": {
      "needs_background": "light"
     },
     "output_type": "display_data"
    },
    {
     "data": {
      "image/png": "[encoded data removed]",
      "text/plain": [
       "<Figure size 432x288 with 1 Axes>"
      ]
     },
     "metadata": {
      "needs_background": "light"
     },
     "output_type": "display_data"
    }
   ],
   "source": [
    "sns.histplot(data[f], bins = 40)\n",
    "plt.show()\n",
    "plt.boxplot(data[f])\n",
    "plt.show()"
   ]
  },
  {
   "cell_type": "code",
   "execution_count": 69,
   "metadata": {
    "id": "aZqkq7z6YJG4"
   },
   "outputs": [
    {
     "name": "stdout",
     "output_type": "stream",
     "text": [
      "0.2553763440860215\n",
      "0.1485148514851485\n",
      "0.11515151515151516\n",
      "0.08414239482200647\n"
     ]
    }
   ],
   "source": [
    "print(data.loc[data[\"TotalWorkingYears\"]<=6,'Attrition'].mean())\n",
    "print(data.loc[(data[\"TotalWorkingYears\"]>6)&(data[\"TotalWorkingYears\"]<=10),'Attrition'].mean())\n",
    "print(data.loc[(data[\"TotalWorkingYears\"]>10)&(data[\"TotalWorkingYears\"]<=15),'Attrition'].mean())\n",
    "print(data.loc[(data[\"TotalWorkingYears\"]>15),'Attrition'].mean())"
   ]
  },
  {
   "cell_type": "markdown",
   "metadata": {},
   "source": [
    "예상대로 일한 년차가 높을 수록 이직률이 작았다."
   ]
  },
  {
   "cell_type": "markdown",
   "metadata": {
    "id": "CVRxxOC5NFf6"
   },
   "source": [
    "### 8) 추가"
   ]
  },
  {
   "cell_type": "code",
   "execution_count": 59,
   "metadata": {
    "id": "MxabEAizNFf7"
   },
   "outputs": [],
   "source": [
    "f = 'PercentSalaryHike'"
   ]
  },
  {
   "cell_type": "markdown",
   "metadata": {
    "id": "Z4YjqAD-NFf7"
   },
   "source": [
    "전년대비 연봉인상률 : 전체평균보다 낮을 경우 이직률이 높을 것이다."
   ]
  },
  {
   "cell_type": "code",
   "execution_count": 60,
   "metadata": {
    "id": "w8v5QUPsNFf7"
   },
   "outputs": [
    {
     "data": {
      "text/plain": [
       "count    1250.000000\n",
       "mean       15.216000\n",
       "std         3.625556\n",
       "min        11.000000\n",
       "25%        12.000000\n",
       "50%        14.000000\n",
       "75%        18.000000\n",
       "max        25.000000\n",
       "Name: PercentSalaryHike, dtype: float64"
      ]
     },
     "execution_count": 60,
     "metadata": {},
     "output_type": "execute_result"
    }
   ],
   "source": [
    "data[f].describe()"
   ]
  },
  {
   "cell_type": "code",
   "execution_count": 62,
   "metadata": {
    "id": "liF0zXssNFf7"
   },
   "outputs": [
    {
     "data": {
      "image/png": "[encoded data removed]",
      "text/plain": [
       "<Figure size 432x288 with 1 Axes>"
      ]
     },
     "metadata": {
      "needs_background": "light"
     },
     "output_type": "display_data"
    },
    {
     "data": {
      "image/png": "[encoded data removed]",
      "text/plain": [
       "<Figure size 432x288 with 1 Axes>"
      ]
     },
     "metadata": {
      "needs_background": "light"
     },
     "output_type": "display_data"
    }
   ],
   "source": [
    "sns.histplot(data[f], bins = 40)\n",
    "plt.show()\n",
    "plt.boxplot(data[f])\n",
    "plt.show()"
   ]
  },
  {
   "cell_type": "markdown",
   "metadata": {},
   "source": [
    "- 4분위수를 이용해 상승률별 이직률 비교"
   ]
  },
  {
   "cell_type": "code",
   "execution_count": 64,
   "metadata": {
    "id": "w23PhVKDNFf7"
   },
   "outputs": [
    {
     "name": "stdout",
     "output_type": "stream",
     "text": [
      "0.1695906432748538\n",
      "0.14367816091954022\n",
      "0.16612377850162866\n",
      "0.16205533596837945\n"
     ]
    }
   ],
   "source": [
    "print(data.loc[data['PercentSalaryHike']<=12,'Attrition'].mean())\n",
    "print(data.loc[(data['PercentSalaryHike']>12)&(data['PercentSalaryHike']<=14),'Attrition'].mean())\n",
    "print(data.loc[(data['PercentSalaryHike']>14)&(data['PercentSalaryHike']<=18),'Attrition'].mean())\n",
    "print(data.loc[(data['PercentSalaryHike']>18),'Attrition'].mean())"
   ]
  },
  {
   "cell_type": "markdown",
   "metadata": {},
   "source": [
    "예상과 달리 연봉상승률과 이직률은 큰 관계가 없었다."
   ]
  },
  {
   "cell_type": "markdown",
   "metadata": {
    "id": "akKd5uoTYF-5"
   },
   "source": [
    "### 9) 추가"
   ]
  },
  {
   "cell_type": "code",
   "execution_count": 70,
   "metadata": {
    "id": "wWiqzoV-YF-5"
   },
   "outputs": [],
   "source": [
    "f = 'RelationshipSatisfaction'"
   ]
  },
  {
   "cell_type": "markdown",
   "metadata": {
    "id": "Gzymf-pLYF-5"
   },
   "source": [
    "동료와의 관계 (범주) : 관계가 안좋을 수록 이직률이 높을 것이다."
   ]
  },
  {
   "cell_type": "code",
   "execution_count": 71,
   "metadata": {
    "id": "Nh_M9CjbYF-5"
   },
   "outputs": [
    {
     "data": {
      "text/plain": [
       "3    397\n",
       "4    365\n",
       "2    258\n",
       "1    230\n",
       "Name: RelationshipSatisfaction, dtype: int64"
      ]
     },
     "execution_count": 71,
     "metadata": {},
     "output_type": "execute_result"
    }
   ],
   "source": [
    "data[f].value_counts()"
   ]
  },
  {
   "cell_type": "code",
   "execution_count": 72,
   "metadata": {
    "id": "HzsYK7GBYF-6"
   },
   "outputs": [
    {
     "name": "stderr",
     "output_type": "stream",
     "text": [
      "C:\\Users\\User\\anaconda3\\lib\\site-packages\\seaborn\\_decorators.py:36: FutureWarning: Pass the following variable as a keyword arg: x. From version 0.12, the only valid positional argument will be `data`, and passing other arguments without an explicit keyword will result in an error or misinterpretation.\n",
      "  warnings.warn(\n"
     ]
    },
    {
     "data": {
      "image/png": "[encoded data removed]",
      "text/plain": [
       "<Figure size 432x288 with 1 Axes>"
      ]
     },
     "metadata": {
      "needs_background": "light"
     },
     "output_type": "display_data"
    }
   ],
   "source": [
    "sns.countplot(data[f])\n",
    "plt.show()"
   ]
  },
  {
   "cell_type": "code",
   "execution_count": 73,
   "metadata": {
    "id": "fPlxEkzpYF-6"
   },
   "outputs": [
    {
     "name": "stdout",
     "output_type": "stream",
     "text": [
      "0.20434782608695654\n",
      "0.15891472868217055\n",
      "0.15113350125944586\n",
      "0.14246575342465753\n"
     ]
    }
   ],
   "source": [
    "for i in range(1,5):\n",
    "    print(data.loc[(data['RelationshipSatisfaction']==i),'Attrition'].mean())"
   ]
  },
  {
   "cell_type": "code",
   "execution_count": 74,
   "metadata": {},
   "outputs": [
    {
     "name": "stdout",
     "output_type": "stream",
     "text": [
      "0.1865671641791045\n",
      "0.18633540372670807\n",
      "0.16666666666666666\n",
      "0.16017316017316016\n"
     ]
    }
   ],
   "source": [
    "for i in range(1,5):\n",
    "    print(data.loc[(data['RelationshipSatisfaction']==i)&(data['Gender']=='Male'),'Attrition'].mean())"
   ]
  },
  {
   "cell_type": "code",
   "execution_count": 77,
   "metadata": {},
   "outputs": [
    {
     "name": "stdout",
     "output_type": "stream",
     "text": [
      "0.22916666666666666\n",
      "0.1134020618556701\n",
      "0.12883435582822086\n",
      "0.11194029850746269\n"
     ]
    }
   ],
   "source": [
    "for i in range(1,5):\n",
    "    print(data.loc[(data['RelationshipSatisfaction']==i)&(data['Gender']=='Female'),'Attrition'].mean())"
   ]
  },
  {
   "cell_type": "markdown",
   "metadata": {},
   "source": [
    "- 직장인의 동료 관계 설문조사의 경우 Bad가 아니면 사실상 큰 차이를 못느끼는 경우라 추측된다.\n",
    "- 남성의 경우 동료의 관계가 이직률에 주는 영향 정도가 여성에 비해 작다."
   ]
  },
  {
   "cell_type": "markdown",
   "metadata": {
    "id": "wUj9QWE4NFIh"
   },
   "source": [
    "### 10) 추가 : 새로운 변수 평균 근무 년차"
   ]
  },
  {
   "cell_type": "code",
   "execution_count": 109,
   "metadata": {
    "id": "TbK0OTXPNFIi"
   },
   "outputs": [],
   "source": [
    "f = 'avgyear'"
   ]
  },
  {
   "cell_type": "markdown",
   "metadata": {
    "id": "V-kphkyRNFIi"
   },
   "source": [
    "한 직장에서 평균 년차"
   ]
  },
  {
   "cell_type": "code",
   "execution_count": 111,
   "metadata": {
    "id": "BugKAWbENFIi"
   },
   "outputs": [
    {
     "data": {
      "text/plain": [
       "count    1229.000000\n",
       "mean        2.678600\n",
       "std         2.473647\n",
       "min         0.000000\n",
       "25%         1.000000\n",
       "50%         2.000000\n",
       "75%         4.000000\n",
       "max         9.000000\n",
       "Name: NumCompaniesWorked, dtype: float64"
      ]
     },
     "execution_count": 111,
     "metadata": {},
     "output_type": "execute_result"
    }
   ],
   "source": [
    "data.NumCompaniesWorked.describe()"
   ]
  },
  {
   "cell_type": "code",
   "execution_count": 113,
   "metadata": {},
   "outputs": [
    {
     "data": {
      "text/html": [
       "<div>\n",
       "<style scoped>\n",
       "    .dataframe tbody tr th:only-of-type {\n",
       "        vertical-align: middle;\n",
       "    }\n",
       "\n",
       "    .dataframe tbody tr th {\n",
       "        vertical-align: top;\n",
       "    }\n",
       "\n",
       "    .dataframe thead th {\n",
       "        text-align: right;\n",
       "    }\n",
       "</style>\n",
       "<table border=\"1\" class=\"dataframe\">\n",
       "  <thead>\n",
       "    <tr style=\"text-align: right;\">\n",
       "      <th></th>\n",
       "      <th>Attrition</th>\n",
       "      <th>Age</th>\n",
       "      <th>DistanceFromHome</th>\n",
       "      <th>Gender</th>\n",
       "      <th>JobSatisfaction</th>\n",
       "      <th>MaritalStatus</th>\n",
       "      <th>MonthlyIncome</th>\n",
       "      <th>NumCompaniesWorked</th>\n",
       "      <th>OverTime</th>\n",
       "      <th>PercentSalaryHike</th>\n",
       "      <th>RelationshipSatisfaction</th>\n",
       "      <th>TotalWorkingYears</th>\n",
       "      <th>WorkLifeBalance</th>\n",
       "      <th>avgyear</th>\n",
       "    </tr>\n",
       "  </thead>\n",
       "  <tbody>\n",
       "    <tr>\n",
       "      <th>0</th>\n",
       "      <td>0</td>\n",
       "      <td>33</td>\n",
       "      <td>7.0</td>\n",
       "      <td>Male</td>\n",
       "      <td>3</td>\n",
       "      <td>Married</td>\n",
       "      <td>11691</td>\n",
       "      <td>0.0</td>\n",
       "      <td>No</td>\n",
       "      <td>11</td>\n",
       "      <td>4</td>\n",
       "      <td>14</td>\n",
       "      <td>4</td>\n",
       "      <td>14.0</td>\n",
       "    </tr>\n",
       "    <tr>\n",
       "      <th>1</th>\n",
       "      <td>0</td>\n",
       "      <td>35</td>\n",
       "      <td>18.0</td>\n",
       "      <td>Male</td>\n",
       "      <td>4</td>\n",
       "      <td>Single</td>\n",
       "      <td>9362</td>\n",
       "      <td>2.0</td>\n",
       "      <td>No</td>\n",
       "      <td>11</td>\n",
       "      <td>3</td>\n",
       "      <td>10</td>\n",
       "      <td>3</td>\n",
       "      <td>5.0</td>\n",
       "    </tr>\n",
       "    <tr>\n",
       "      <th>2</th>\n",
       "      <td>0</td>\n",
       "      <td>42</td>\n",
       "      <td>6.0</td>\n",
       "      <td>Male</td>\n",
       "      <td>1</td>\n",
       "      <td>Married</td>\n",
       "      <td>13348</td>\n",
       "      <td>9.0</td>\n",
       "      <td>No</td>\n",
       "      <td>13</td>\n",
       "      <td>2</td>\n",
       "      <td>18</td>\n",
       "      <td>4</td>\n",
       "      <td>2.0</td>\n",
       "    </tr>\n",
       "    <tr>\n",
       "      <th>3</th>\n",
       "      <td>0</td>\n",
       "      <td>46</td>\n",
       "      <td>2.0</td>\n",
       "      <td>Female</td>\n",
       "      <td>1</td>\n",
       "      <td>Married</td>\n",
       "      <td>17048</td>\n",
       "      <td>8.0</td>\n",
       "      <td>No</td>\n",
       "      <td>23</td>\n",
       "      <td>1</td>\n",
       "      <td>28</td>\n",
       "      <td>3</td>\n",
       "      <td>3.5</td>\n",
       "    </tr>\n",
       "    <tr>\n",
       "      <th>4</th>\n",
       "      <td>0</td>\n",
       "      <td>39</td>\n",
       "      <td>NaN</td>\n",
       "      <td>Male</td>\n",
       "      <td>4</td>\n",
       "      <td>Divorced</td>\n",
       "      <td>4127</td>\n",
       "      <td>2.0</td>\n",
       "      <td>No</td>\n",
       "      <td>18</td>\n",
       "      <td>4</td>\n",
       "      <td>7</td>\n",
       "      <td>3</td>\n",
       "      <td>3.5</td>\n",
       "    </tr>\n",
       "  </tbody>\n",
       "</table>\n",
       "</div>"
      ],
      "text/plain": [
       "   Attrition  Age  DistanceFromHome  Gender  JobSatisfaction MaritalStatus  \\\n",
       "0          0   33               7.0    Male                3       Married   \n",
       "1          0   35              18.0    Male                4        Single   \n",
       "2          0   42               6.0    Male                1       Married   \n",
       "3          0   46               2.0  Female                1       Married   \n",
       "4          0   39               NaN    Male                4      Divorced   \n",
       "\n",
       "   MonthlyIncome  NumCompaniesWorked OverTime  PercentSalaryHike  \\\n",
       "0          11691                 0.0       No                 11   \n",
       "1           9362                 2.0       No                 11   \n",
       "2          13348                 9.0       No                 13   \n",
       "3          17048                 8.0       No                 23   \n",
       "4           4127                 2.0       No                 18   \n",
       "\n",
       "   RelationshipSatisfaction  TotalWorkingYears  WorkLifeBalance  avgyear  \n",
       "0                         4                 14                4     14.0  \n",
       "1                         3                 10                3      5.0  \n",
       "2                         2                 18                4      2.0  \n",
       "3                         1                 28                3      3.5  \n",
       "4                         4                  7                3      3.5  "
      ]
     },
     "execution_count": 113,
     "metadata": {},
     "output_type": "execute_result"
    }
   ],
   "source": [
    "data[f] = data['TotalWorkingYears']\n",
    "for i in range(1,10):\n",
    "    data.loc[data.NumCompaniesWorked==i,f] = data[f]/data['NumCompaniesWorked']\n",
    "data.head()"
   ]
  },
  {
   "cell_type": "code",
   "execution_count": 114,
   "metadata": {
    "id": "oupA7wXLNFIi"
   },
   "outputs": [
    {
     "data": {
      "text/plain": [
       "count    1250.000000\n",
       "mean        6.290248\n",
       "std         5.832017\n",
       "min         0.000000\n",
       "25%         2.142857\n",
       "50%         5.000000\n",
       "75%         9.000000\n",
       "max        40.000000\n",
       "Name: avgyear, dtype: float64"
      ]
     },
     "execution_count": 114,
     "metadata": {},
     "output_type": "execute_result"
    }
   ],
   "source": [
    "data[f].describe()"
   ]
  },
  {
   "cell_type": "code",
   "execution_count": 115,
   "metadata": {
    "id": "eKkgYmINNFIi"
   },
   "outputs": [
    {
     "data": {
      "image/png": "[encoded data removed]",
      "text/plain": [
       "<Figure size 432x288 with 1 Axes>"
      ]
     },
     "metadata": {
      "needs_background": "light"
     },
     "output_type": "display_data"
    },
    {
     "data": {
      "image/png": "[encoded data removed]",
      "text/plain": [
       "<Figure size 432x288 with 1 Axes>"
      ]
     },
     "metadata": {
      "needs_background": "light"
     },
     "output_type": "display_data"
    }
   ],
   "source": [
    "sns.histplot(data[f], bins = 40)\n",
    "plt.show()\n",
    "plt.boxplot(data[f])\n",
    "plt.show()"
   ]
  },
  {
   "cell_type": "code",
   "execution_count": 117,
   "metadata": {},
   "outputs": [
    {
     "name": "stdout",
     "output_type": "stream",
     "text": [
      "0.33762057877813506\n",
      "0.1111111111111111\n",
      "0.10545454545454545\n",
      "0.08391608391608392\n"
     ]
    }
   ],
   "source": [
    "print(data.loc[data[f]<=2.142,'Attrition'].mean())\n",
    "print(data.loc[(data[f]>2.142)&(data[f]<=5),'Attrition'].mean())\n",
    "print(data.loc[(data[f]>5)&(data[f]<=9),'Attrition'].mean())\n",
    "print(data.loc[(data[f]>9),'Attrition'].mean())"
   ]
  },
  {
   "cell_type": "markdown",
   "metadata": {},
   "source": [
    "한회사 평균 근무 년차가 짧을수록 이직률이 높다."
   ]
  },
  {
   "cell_type": "markdown",
   "metadata": {
    "id": "GhWOVHzuYcp9"
   },
   "source": [
    "### 11) 추가 새로운 변수 전년 대비 상승 금액"
   ]
  },
  {
   "cell_type": "code",
   "execution_count": 121,
   "metadata": {
    "id": "BcIrF7IkYcp9"
   },
   "outputs": [],
   "source": [
    "f = 'hikem'"
   ]
  },
  {
   "cell_type": "code",
   "execution_count": 122,
   "metadata": {
    "id": "DHFFxrpKYcp-"
   },
   "outputs": [
    {
     "data": {
      "text/html": [
       "<div>\n",
       "<style scoped>\n",
       "    .dataframe tbody tr th:only-of-type {\n",
       "        vertical-align: middle;\n",
       "    }\n",
       "\n",
       "    .dataframe tbody tr th {\n",
       "        vertical-align: top;\n",
       "    }\n",
       "\n",
       "    .dataframe thead th {\n",
       "        text-align: right;\n",
       "    }\n",
       "</style>\n",
       "<table border=\"1\" class=\"dataframe\">\n",
       "  <thead>\n",
       "    <tr style=\"text-align: right;\">\n",
       "      <th></th>\n",
       "      <th>Attrition</th>\n",
       "      <th>Age</th>\n",
       "      <th>DistanceFromHome</th>\n",
       "      <th>Gender</th>\n",
       "      <th>JobSatisfaction</th>\n",
       "      <th>MaritalStatus</th>\n",
       "      <th>MonthlyIncome</th>\n",
       "      <th>NumCompaniesWorked</th>\n",
       "      <th>OverTime</th>\n",
       "      <th>PercentSalaryHike</th>\n",
       "      <th>RelationshipSatisfaction</th>\n",
       "      <th>TotalWorkingYears</th>\n",
       "      <th>WorkLifeBalance</th>\n",
       "      <th>avgyear</th>\n",
       "      <th>hikem</th>\n",
       "    </tr>\n",
       "  </thead>\n",
       "  <tbody>\n",
       "    <tr>\n",
       "      <th>0</th>\n",
       "      <td>0</td>\n",
       "      <td>33</td>\n",
       "      <td>7.0</td>\n",
       "      <td>Male</td>\n",
       "      <td>3</td>\n",
       "      <td>Married</td>\n",
       "      <td>11691</td>\n",
       "      <td>0.0</td>\n",
       "      <td>No</td>\n",
       "      <td>11</td>\n",
       "      <td>4</td>\n",
       "      <td>14</td>\n",
       "      <td>4</td>\n",
       "      <td>14.0</td>\n",
       "      <td>1158.567568</td>\n",
       "    </tr>\n",
       "    <tr>\n",
       "      <th>1</th>\n",
       "      <td>0</td>\n",
       "      <td>35</td>\n",
       "      <td>18.0</td>\n",
       "      <td>Male</td>\n",
       "      <td>4</td>\n",
       "      <td>Single</td>\n",
       "      <td>9362</td>\n",
       "      <td>2.0</td>\n",
       "      <td>No</td>\n",
       "      <td>11</td>\n",
       "      <td>3</td>\n",
       "      <td>10</td>\n",
       "      <td>3</td>\n",
       "      <td>5.0</td>\n",
       "      <td>927.765766</td>\n",
       "    </tr>\n",
       "    <tr>\n",
       "      <th>2</th>\n",
       "      <td>0</td>\n",
       "      <td>42</td>\n",
       "      <td>6.0</td>\n",
       "      <td>Male</td>\n",
       "      <td>1</td>\n",
       "      <td>Married</td>\n",
       "      <td>13348</td>\n",
       "      <td>9.0</td>\n",
       "      <td>No</td>\n",
       "      <td>13</td>\n",
       "      <td>2</td>\n",
       "      <td>18</td>\n",
       "      <td>4</td>\n",
       "      <td>2.0</td>\n",
       "      <td>1535.610619</td>\n",
       "    </tr>\n",
       "    <tr>\n",
       "      <th>3</th>\n",
       "      <td>0</td>\n",
       "      <td>46</td>\n",
       "      <td>2.0</td>\n",
       "      <td>Female</td>\n",
       "      <td>1</td>\n",
       "      <td>Married</td>\n",
       "      <td>17048</td>\n",
       "      <td>8.0</td>\n",
       "      <td>No</td>\n",
       "      <td>23</td>\n",
       "      <td>1</td>\n",
       "      <td>28</td>\n",
       "      <td>3</td>\n",
       "      <td>3.5</td>\n",
       "      <td>3187.837398</td>\n",
       "    </tr>\n",
       "    <tr>\n",
       "      <th>4</th>\n",
       "      <td>0</td>\n",
       "      <td>39</td>\n",
       "      <td>NaN</td>\n",
       "      <td>Male</td>\n",
       "      <td>4</td>\n",
       "      <td>Divorced</td>\n",
       "      <td>4127</td>\n",
       "      <td>2.0</td>\n",
       "      <td>No</td>\n",
       "      <td>18</td>\n",
       "      <td>4</td>\n",
       "      <td>7</td>\n",
       "      <td>3</td>\n",
       "      <td>3.5</td>\n",
       "      <td>629.542373</td>\n",
       "    </tr>\n",
       "  </tbody>\n",
       "</table>\n",
       "</div>"
      ],
      "text/plain": [
       "   Attrition  Age  DistanceFromHome  Gender  JobSatisfaction MaritalStatus  \\\n",
       "0          0   33               7.0    Male                3       Married   \n",
       "1          0   35              18.0    Male                4        Single   \n",
       "2          0   42               6.0    Male                1       Married   \n",
       "3          0   46               2.0  Female                1       Married   \n",
       "4          0   39               NaN    Male                4      Divorced   \n",
       "\n",
       "   MonthlyIncome  NumCompaniesWorked OverTime  PercentSalaryHike  \\\n",
       "0          11691                 0.0       No                 11   \n",
       "1           9362                 2.0       No                 11   \n",
       "2          13348                 9.0       No                 13   \n",
       "3          17048                 8.0       No                 23   \n",
       "4           4127                 2.0       No                 18   \n",
       "\n",
       "   RelationshipSatisfaction  TotalWorkingYears  WorkLifeBalance  avgyear  \\\n",
       "0                         4                 14                4     14.0   \n",
       "1                         3                 10                3      5.0   \n",
       "2                         2                 18                4      2.0   \n",
       "3                         1                 28                3      3.5   \n",
       "4                         4                  7                3      3.5   \n",
       "\n",
       "         hikem  \n",
       "0  1158.567568  \n",
       "1   927.765766  \n",
       "2  1535.610619  \n",
       "3  3187.837398  \n",
       "4   629.542373  "
      ]
     },
     "execution_count": 122,
     "metadata": {},
     "output_type": "execute_result"
    }
   ],
   "source": [
    "data[f] = data['MonthlyIncome']-(data['MonthlyIncome']/(1+(data['PercentSalaryHike']/100)))\n",
    "data.head()"
   ]
  },
  {
   "cell_type": "code",
   "execution_count": 123,
   "metadata": {
    "id": "Zrn57s9nYcp-"
   },
   "outputs": [
    {
     "data": {
      "text/plain": [
       "count    1250.000000\n",
       "mean      852.725496\n",
       "std       641.975905\n",
       "min        99.990991\n",
       "25%       394.022523\n",
       "50%       640.295196\n",
       "75%      1063.534990\n",
       "max      3601.688525\n",
       "Name: hikem, dtype: float64"
      ]
     },
     "execution_count": 123,
     "metadata": {},
     "output_type": "execute_result"
    }
   ],
   "source": [
    "data[f].describe()"
   ]
  },
  {
   "cell_type": "code",
   "execution_count": 124,
   "metadata": {
    "id": "6ObCb6tSYcp-"
   },
   "outputs": [
    {
     "data": {
      "image/png": "[encoded data removed]",
      "text/plain": [
       "<Figure size 432x288 with 1 Axes>"
      ]
     },
     "metadata": {
      "needs_background": "light"
     },
     "output_type": "display_data"
    },
    {
     "data": {
      "image/png": "[encoded data removed]",
      "text/plain": [
       "<Figure size 432x288 with 1 Axes>"
      ]
     },
     "metadata": {
      "needs_background": "light"
     },
     "output_type": "display_data"
    }
   ],
   "source": [
    "sns.histplot(data[f], bins = 40)\n",
    "plt.show()\n",
    "plt.boxplot(data[f])\n",
    "plt.show()"
   ]
  },
  {
   "cell_type": "code",
   "execution_count": 126,
   "metadata": {
    "id": "mfkGrRx7Ycp-"
   },
   "outputs": [
    {
     "name": "stdout",
     "output_type": "stream",
     "text": [
      "0.25878594249201275\n",
      "0.15384615384615385\n",
      "0.14102564102564102\n",
      "0.08626198083067092\n"
     ]
    }
   ],
   "source": [
    "print(data.loc[data[f]<=394,'Attrition'].mean())\n",
    "print(data.loc[(data[f]>394)&(data[f]<=640),'Attrition'].mean())\n",
    "print(data.loc[(data[f]>640)&(data[f]<=1063),'Attrition'].mean())\n",
    "print(data.loc[(data[f]>1063),'Attrition'].mean())"
   ]
  },
  {
   "cell_type": "markdown",
   "metadata": {},
   "source": [
    "상승률에 비해 객관적인 연봉 상승값에 따라 이직률이 달라지는 모습을 보인다"
   ]
  },
  {
   "cell_type": "markdown",
   "metadata": {},
   "source": [
    "### JobSatisfaction"
   ]
  },
  {
   "cell_type": "code",
   "execution_count": 130,
   "metadata": {},
   "outputs": [],
   "source": [
    "f = 'JobSatisfaction'"
   ]
  },
  {
   "cell_type": "code",
   "execution_count": 131,
   "metadata": {},
   "outputs": [
    {
     "data": {
      "text/plain": [
       "4    397\n",
       "3    368\n",
       "1    250\n",
       "2    235\n",
       "Name: JobSatisfaction, dtype: int64"
      ]
     },
     "execution_count": 131,
     "metadata": {},
     "output_type": "execute_result"
    }
   ],
   "source": [
    "data[f].value_counts()"
   ]
  },
  {
   "cell_type": "code",
   "execution_count": 132,
   "metadata": {},
   "outputs": [
    {
     "name": "stderr",
     "output_type": "stream",
     "text": [
      "C:\\Users\\User\\anaconda3\\lib\\site-packages\\seaborn\\_decorators.py:36: FutureWarning: Pass the following variable as a keyword arg: x. From version 0.12, the only valid positional argument will be `data`, and passing other arguments without an explicit keyword will result in an error or misinterpretation.\n",
      "  warnings.warn(\n"
     ]
    },
    {
     "data": {
      "image/png": "[encoded data removed]",
      "text/plain": [
       "<Figure size 432x288 with 1 Axes>"
      ]
     },
     "metadata": {
      "needs_background": "light"
     },
     "output_type": "display_data"
    }
   ],
   "source": [
    "sns.countplot(data[f])\n",
    "plt.show()"
   ]
  },
  {
   "cell_type": "code",
   "execution_count": 134,
   "metadata": {},
   "outputs": [
    {
     "name": "stdout",
     "output_type": "stream",
     "text": [
      "0.212\n",
      "0.16595744680851063\n",
      "0.16304347826086957\n",
      "0.12090680100755667\n"
     ]
    }
   ],
   "source": [
    "for i in range(1,5):\n",
    "    print(data.loc[(data[f]==i),'Attrition'].mean())"
   ]
  },
  {
   "cell_type": "code",
   "execution_count": 135,
   "metadata": {},
   "outputs": [
    {
     "name": "stdout",
     "output_type": "stream",
     "text": [
      "0.25517241379310346\n",
      "0.1366906474820144\n",
      "0.1902654867256637\n",
      "0.128\n"
     ]
    }
   ],
   "source": [
    "for i in range(1,5):\n",
    "    print(data.loc[(data[f]==i)&(data['Gender']=='Male'),'Attrition'].mean())"
   ]
  },
  {
   "cell_type": "code",
   "execution_count": 136,
   "metadata": {},
   "outputs": [
    {
     "name": "stdout",
     "output_type": "stream",
     "text": [
      "0.1523809523809524\n",
      "0.20833333333333334\n",
      "0.11971830985915492\n",
      "0.10884353741496598\n"
     ]
    }
   ],
   "source": [
    "for i in range(1,5):\n",
    "    print(data.loc[(data[f]==i)&(data['Gender']=='Female'),'Attrition'].mean())"
   ]
  },
  {
   "cell_type": "code",
   "execution_count": null,
   "metadata": {},
   "outputs": [],
   "source": []
  },
  {
   "cell_type": "markdown",
   "metadata": {
    "id": "ZghJJ7yLEpDA"
   },
   "source": [
    "## 3.이변량 분석 \n",
    "* 자료의 종류에 맞게 X --> Y 에 대해서 그래프(시각화)와 가설검정(수치화)를 수행하고 결과를 평가합니다.\n",
    "* 가설검정시 다음의 항목을 참조하여 수행합니다.\n",
    "    * 유의수준 : 5%\n",
    "    * 숫자 --> 숫자 : 상관분석\n",
    "    * 범주 --> 범주 : 카이제곱검정\n",
    "    * 범주 --> 숫자 : t검정, 분산분석\n",
    "    * 숫자 --> 범주 : 로지스틱 회귀모형을 통해, 회귀계수의 P.value로 검정을 수행합니다."
   ]
  },
  {
   "cell_type": "markdown",
   "metadata": {
    "id": "fap08wfEMqtY"
   },
   "source": [
    "### (1) 범주형 Feature --> Target\n",
    "* 모든 범주형 Feature에 대해서 Y와 비교하여 차트를 그리고 수치화 하시오.  \n",
    "    ① 교차표(pd.crosstab())  \n",
    "    ② 시각화( Stacked Bar, Mosaic)  \n",
    "    ③ 가설검정(카이제곱검정)\n",
    "* 각 feature 별로 관계의 정도를 3가지로 정리해봅시다. "
   ]
  },
  {
   "cell_type": "markdown",
   "metadata": {},
   "source": [
    "### 가설 1번 : 남성은 워라밸, 여성은 동료관계가 더 영향을 미칠 것이다."
   ]
  },
  {
   "cell_type": "markdown",
   "metadata": {
    "id": "Dh2UW7_S-yoq"
   },
   "source": [
    "#### 1) WorkLifeBalence --> target"
   ]
  },
  {
   "cell_type": "code",
   "execution_count": 91,
   "metadata": {},
   "outputs": [],
   "source": [
    "f = 'WorkLifeBalance'\n",
    "t = 'Attrition'"
   ]
  },
  {
   "cell_type": "code",
   "execution_count": 153,
   "metadata": {
    "id": "2yz9iC2NNWA2"
   },
   "outputs": [],
   "source": [
    "male = data.loc[data.Gender=='Male',:]\n",
    "female = data.loc[data.Gender=='Female',:]"
   ]
  },
  {
   "cell_type": "code",
   "execution_count": 93,
   "metadata": {
    "id": "sv_bb6n1NV9X"
   },
   "outputs": [],
   "source": [
    "mtmp = pd.crosstab(male[f], male[t], normalize='index')\n",
    "ftmp = pd.crosstab(female[f], female[t], normalize='index')"
   ]
  },
  {
   "cell_type": "code",
   "execution_count": 94,
   "metadata": {},
   "outputs": [
    {
     "data": {
      "image/png": "[encoded data removed]",
      "text/plain": [
       "<Figure size 432x288 with 1 Axes>"
      ]
     },
     "metadata": {
      "needs_background": "light"
     },
     "output_type": "display_data"
    },
    {
     "data": {
      "image/png": "[encoded data removed]",
      "text/plain": [
       "<Figure size 432x288 with 1 Axes>"
      ]
     },
     "metadata": {
      "needs_background": "light"
     },
     "output_type": "display_data"
    }
   ],
   "source": [
    "mtmp.plot.bar(stacked=True)\n",
    "plt.axhline(1-male[t].mean(), color = 'r')\n",
    "plt.show()\n",
    "ftmp.plot.bar(stacked=True)\n",
    "plt.axhline(1-female[t].mean(), color = 'r')\n",
    "plt.show()"
   ]
  },
  {
   "cell_type": "code",
   "execution_count": 95,
   "metadata": {
    "id": "dIBw6i5qNV6P"
   },
   "outputs": [
    {
     "data": {
      "image/png": "[encoded data removed]",
      "text/plain": [
       "<Figure size 432x288 with 3 Axes>"
      ]
     },
     "metadata": {
      "needs_background": "light"
     },
     "output_type": "display_data"
    },
    {
     "data": {
      "image/png": "[encoded data removed]",
      "text/plain": [
       "<Figure size 432x288 with 3 Axes>"
      ]
     },
     "metadata": {
      "needs_background": "light"
     },
     "output_type": "display_data"
    }
   ],
   "source": [
    "mosaic(male,[f,t])\n",
    "plt.axhline(1-male[t].mean(), color = 'r')\n",
    "plt.show()\n",
    "mosaic(female,[f,t])\n",
    "plt.axhline(1-female[t].mean(), color = 'r')\n",
    "plt.show()"
   ]
  },
  {
   "cell_type": "code",
   "execution_count": 103,
   "metadata": {},
   "outputs": [
    {
     "name": "stdout",
     "output_type": "stream",
     "text": [
      "남성교차표\n",
      " Attrition          0   1\n",
      "WorkLifeBalance         \n",
      "1                 28  13\n",
      "2                148  35\n",
      "3                376  71\n",
      "4                 77  12\n",
      "----------------------------------------------------------------------------------------------------\n",
      "카이제곱통계량 7.928494457708301\n",
      "p-value 0.047512858080335695\n",
      "기대빈도\n",
      " [[ 33.93289474   7.06710526]\n",
      " [151.45657895  31.54342105]\n",
      " [369.95131579  77.04868421]\n",
      " [ 73.65921053  15.34078947]]\n",
      "----------------------------------------------------------------------------------------------------\n",
      "여성교차표\n",
      " Attrition          0   1\n",
      "WorkLifeBalance         \n",
      "1                 21   7\n",
      "2                103  11\n",
      "3                263  37\n",
      "4                 34  14\n",
      "----------------------------------------------------------------------------------------------------\n",
      "카이제곱통계량 14.396111712031635\n",
      "p-value 0.002412682910648171\n",
      "기대빈도\n",
      " [[ 24.05714286   3.94285714]\n",
      " [ 97.94693878  16.05306122]\n",
      " [257.75510204  42.24489796]\n",
      " [ 41.24081633   6.75918367]]\n",
      "----------------------------------------------------------------------------------------------------\n",
      "교차표\n",
      " Attrition          0    1\n",
      "WorkLifeBalance          \n",
      "1                 49   20\n",
      "2                251   46\n",
      "3                639  108\n",
      "4                111   26\n",
      "----------------------------------------------------------------------------------------------------\n",
      "카이제곱통계량 10.940810822342664\n",
      "p-value 0.012050277390233675\n",
      "기대빈도\n",
      " [[ 57.96  11.04]\n",
      " [249.48  47.52]\n",
      " [627.48 119.52]\n",
      " [115.08  21.92]]\n"
     ]
    }
   ],
   "source": [
    "mtmp = pd.crosstab(male[f], male[t])\n",
    "print('남성교차표\\n', mtmp)\n",
    "print('-' * 100)\n",
    "\n",
    "# 카이제곱검정\n",
    "result = spst.chi2_contingency(mtmp)\n",
    "print('카이제곱통계량', result[0])\n",
    "print('p-value', result[1])\n",
    "print('기대빈도\\n',result[3])\n",
    "print('-' * 100)\n",
    "ftmp = pd.crosstab(female[f], female[t])\n",
    "print('여성교차표\\n', ftmp)\n",
    "print('-' * 100)\n",
    "\n",
    "# 카이제곱검정\n",
    "result = spst.chi2_contingency(ftmp)\n",
    "print('카이제곱통계량', result[0])\n",
    "print('p-value', result[1])\n",
    "print('기대빈도\\n',result[3])\n",
    "print('-' * 100)\n",
    "tmp = pd.crosstab(data[f], data[t])\n",
    "print('교차표\\n', tmp)\n",
    "print('-' * 100)\n",
    "\n",
    "# 카이제곱검정\n",
    "result = spst.chi2_contingency(tmp)\n",
    "print('카이제곱통계량', result[0])\n",
    "print('p-value', result[1])\n",
    "print('기대빈도\\n',result[3])"
   ]
  },
  {
   "cell_type": "markdown",
   "metadata": {},
   "source": [
    "#### 결론\n",
    "- 워라밸 통계는 어느정도 약한 상관관계를 가짐.\n",
    "- 남성의 경우 설문조사를 자신의 진짜 생각대로 하는 경향을 보임. 설문조사의 정확도는 높으나 크게 영향을 준다고 하긴 어렵다.\n",
    "- 여성의 경우 설문조사 자체의 정확도는 떨어지나 워라밸의 이직률 영향도는 남성보다 높았다.\n",
    "- 여성의 워라밸 최고라는 설문은 사실이 아닐 가능성이 있다고 추측가능하다."
   ]
  },
  {
   "cell_type": "markdown",
   "metadata": {
    "id": "liItz0vkNX2F"
   },
   "source": [
    "#### 2)  RelationshipSatisfaction --> target"
   ]
  },
  {
   "cell_type": "code",
   "execution_count": 104,
   "metadata": {
    "id": "urzz0yqvNX2F"
   },
   "outputs": [],
   "source": [
    "f = 'RelationshipSatisfaction'"
   ]
  },
  {
   "cell_type": "code",
   "execution_count": 105,
   "metadata": {},
   "outputs": [],
   "source": [
    "mtmp = pd.crosstab(male[f], male[t], normalize='index')\n",
    "ftmp = pd.crosstab(female[f], female[t], normalize='index')"
   ]
  },
  {
   "cell_type": "code",
   "execution_count": 106,
   "metadata": {},
   "outputs": [
    {
     "data": {
      "image/png": "[encoded data removed]",
      "text/plain": [
       "<Figure size 432x288 with 1 Axes>"
      ]
     },
     "metadata": {
      "needs_background": "light"
     },
     "output_type": "display_data"
    },
    {
     "data": {
      "image/png": "[encoded data removed]",
      "text/plain": [
       "<Figure size 432x288 with 1 Axes>"
      ]
     },
     "metadata": {
      "needs_background": "light"
     },
     "output_type": "display_data"
    }
   ],
   "source": [
    "mtmp.plot.bar(stacked=True)\n",
    "plt.axhline(1-male[t].mean(), color = 'r')\n",
    "plt.show()\n",
    "ftmp.plot.bar(stacked=True)\n",
    "plt.axhline(1-female[t].mean(), color = 'r')\n",
    "plt.show()"
   ]
  },
  {
   "cell_type": "code",
   "execution_count": 107,
   "metadata": {},
   "outputs": [
    {
     "data": {
      "image/png": "[encoded data removed]",
      "text/plain": [
       "<Figure size 432x288 with 3 Axes>"
      ]
     },
     "metadata": {
      "needs_background": "light"
     },
     "output_type": "display_data"
    },
    {
     "data": {
      "image/png": "[encoded data removed]",
      "text/plain": [
       "<Figure size 432x288 with 3 Axes>"
      ]
     },
     "metadata": {
      "needs_background": "light"
     },
     "output_type": "display_data"
    }
   ],
   "source": [
    "mosaic(male,[f,t])\n",
    "plt.axhline(1-male[t].mean(), color = 'r')\n",
    "plt.show()\n",
    "mosaic(female,[f,t])\n",
    "plt.axhline(1-female[t].mean(), color = 'r')\n",
    "plt.show()"
   ]
  },
  {
   "cell_type": "code",
   "execution_count": 108,
   "metadata": {},
   "outputs": [
    {
     "name": "stdout",
     "output_type": "stream",
     "text": [
      "남성교차표\n",
      " Attrition                   0   1\n",
      "RelationshipSatisfaction         \n",
      "1                         109  25\n",
      "2                         131  30\n",
      "3                         195  39\n",
      "4                         194  37\n",
      "----------------------------------------------------------------------------------------------------\n",
      "카이제곱통계량 0.703678044822228\n",
      "p-value 0.872338496648803\n",
      "기대빈도\n",
      " [[110.90263158  23.09736842]\n",
      " [133.24868421  27.75131579]\n",
      " [193.66578947  40.33421053]\n",
      " [191.18289474  39.81710526]]\n",
      "----------------------------------------------------------------------------------------------------\n",
      "여성교차표\n",
      " Attrition                   0   1\n",
      "RelationshipSatisfaction         \n",
      "1                          74  22\n",
      "2                          86  11\n",
      "3                         142  21\n",
      "4                         119  15\n",
      "----------------------------------------------------------------------------------------------------\n",
      "카이제곱통계량 7.913148226437269\n",
      "p-value 0.0478411900654088\n",
      "기대빈도\n",
      " [[ 82.48163265  13.51836735]\n",
      " [ 83.34081633  13.65918367]\n",
      " [140.04693878  22.95306122]\n",
      " [115.13061224  18.86938776]]\n",
      "----------------------------------------------------------------------------------------------------\n",
      "교차표\n",
      " Attrition                   0   1\n",
      "RelationshipSatisfaction         \n",
      "1                         183  47\n",
      "2                         217  41\n",
      "3                         337  60\n",
      "4                         313  52\n",
      "----------------------------------------------------------------------------------------------------\n",
      "카이제곱통계량 4.435126158518535\n",
      "p-value 0.2181503949975081\n",
      "기대빈도\n",
      " [[193.2   36.8 ]\n",
      " [216.72  41.28]\n",
      " [333.48  63.52]\n",
      " [306.6   58.4 ]]\n"
     ]
    }
   ],
   "source": [
    "mtmp = pd.crosstab(male[f], male[t])\n",
    "print('남성교차표\\n', mtmp)\n",
    "print('-' * 100)\n",
    "\n",
    "# 카이제곱검정\n",
    "result = spst.chi2_contingency(mtmp)\n",
    "print('카이제곱통계량', result[0])\n",
    "print('p-value', result[1])\n",
    "print('기대빈도\\n',result[3])\n",
    "print('-' * 100)\n",
    "ftmp = pd.crosstab(female[f], female[t])\n",
    "print('여성교차표\\n', ftmp)\n",
    "print('-' * 100)\n",
    "\n",
    "# 카이제곱검정\n",
    "result = spst.chi2_contingency(ftmp)\n",
    "print('카이제곱통계량', result[0])\n",
    "print('p-value', result[1])\n",
    "print('기대빈도\\n',result[3])\n",
    "print('-' * 100)\n",
    "tmp = pd.crosstab(data[f], data[t])\n",
    "print('교차표\\n', tmp)\n",
    "print('-' * 100)\n",
    "\n",
    "# 카이제곱검정\n",
    "result = spst.chi2_contingency(tmp)\n",
    "print('카이제곱통계량', result[0])\n",
    "print('p-value', result[1])\n",
    "print('기대빈도\\n',result[3])"
   ]
  },
  {
   "cell_type": "markdown",
   "metadata": {
    "id": "yRkJ_z23NX2F"
   },
   "source": [
    "#### 결론\n",
    "- 동료와의 관계의 경우 전체 데이터로 분석하면 상관관계가 없는 데이터로 나옴\n",
    "- 이를 남성과 여성으로 분리할 경우 남성은 동료와의 관계가 이직률에 영향을 거의 주지 않는 반면 여성은 동료와의 관계가 이직률에 영향을 미친다."
   ]
  },
  {
   "cell_type": "markdown",
   "metadata": {
    "id": "TplEQHKlNYgN"
   },
   "source": [
    "#### 3) feature --> target"
   ]
  },
  {
   "cell_type": "code",
   "execution_count": 144,
   "metadata": {
    "id": "EOK-_0YwNYgN"
   },
   "outputs": [],
   "source": [
    "f = 'MaritalStatus'"
   ]
  },
  {
   "cell_type": "code",
   "execution_count": 145,
   "metadata": {
    "id": "QMbcLFR7NYgN"
   },
   "outputs": [],
   "source": [
    "mtmp = pd.crosstab(male[f], male[t], normalize='index')\n",
    "ftmp = pd.crosstab(female[f], female[t], normalize='index')"
   ]
  },
  {
   "cell_type": "code",
   "execution_count": 146,
   "metadata": {
    "id": "YznIJXayNYgN"
   },
   "outputs": [
    {
     "data": {
      "image/png": "[encoded data removed]",
      "text/plain": [
       "<Figure size 432x288 with 1 Axes>"
      ]
     },
     "metadata": {
      "needs_background": "light"
     },
     "output_type": "display_data"
    },
    {
     "data": {
      "image/png": "[encoded data removed]",
      "text/plain": [
       "<Figure size 432x288 with 1 Axes>"
      ]
     },
     "metadata": {
      "needs_background": "light"
     },
     "output_type": "display_data"
    }
   ],
   "source": [
    "mtmp.plot.bar(stacked=True)\n",
    "plt.axhline(1-male[t].mean(), color = 'r')\n",
    "plt.show()\n",
    "ftmp.plot.bar(stacked=True)\n",
    "plt.axhline(1-female[t].mean(), color = 'r')\n",
    "plt.show()"
   ]
  },
  {
   "cell_type": "code",
   "execution_count": 147,
   "metadata": {},
   "outputs": [
    {
     "data": {
      "image/png": "[encoded data removed]",
      "text/plain": [
       "<Figure size 432x288 with 3 Axes>"
      ]
     },
     "metadata": {
      "needs_background": "light"
     },
     "output_type": "display_data"
    },
    {
     "data": {
      "image/png": "[encoded data removed]",
      "text/plain": [
       "<Figure size 432x288 with 3 Axes>"
      ]
     },
     "metadata": {
      "needs_background": "light"
     },
     "output_type": "display_data"
    }
   ],
   "source": [
    "mosaic(male,[f,t])\n",
    "plt.axhline(1-male[t].mean(), color = 'r')\n",
    "plt.show()\n",
    "mosaic(female,[f,t])\n",
    "plt.axhline(1-female[t].mean(), color = 'r')\n",
    "plt.show()"
   ]
  },
  {
   "cell_type": "code",
   "execution_count": 148,
   "metadata": {},
   "outputs": [
    {
     "name": "stdout",
     "output_type": "stream",
     "text": [
      "남성교차표\n",
      " Attrition        0   1\n",
      "MaritalStatus         \n",
      "Divorced       160  18\n",
      "Married        300  44\n",
      "Single         169  69\n",
      "----------------------------------------------------------------------------------------------------\n",
      "카이제곱통계량 34.15220765150734\n",
      "p-value 3.836563017190429e-08\n",
      "기대빈도\n",
      " [[147.31842105  30.68157895]\n",
      " [284.70526316  59.29473684]\n",
      " [196.97631579  41.02368421]]\n",
      "----------------------------------------------------------------------------------------------------\n",
      "여성교차표\n",
      " Attrition        0   1\n",
      "MaritalStatus         \n",
      "Divorced        93   5\n",
      "Married        201  25\n",
      "Single         127  39\n",
      "----------------------------------------------------------------------------------------------------\n",
      "카이제곱통계량 20.389885106902568\n",
      "p-value 3.735878175331462e-05\n",
      "기대빈도\n",
      " [[ 84.2        13.8      ]\n",
      " [194.1755102  31.8244898]\n",
      " [142.6244898  23.3755102]]\n",
      "----------------------------------------------------------------------------------------------------\n",
      "교차표\n",
      " Attrition        0    1\n",
      "MaritalStatus          \n",
      "Divorced       253   23\n",
      "Married        501   69\n",
      "Single         296  108\n",
      "----------------------------------------------------------------------------------------------------\n",
      "카이제곱통계량 53.12935546374186\n",
      "p-value 2.9047385436211595e-12\n",
      "기대빈도\n",
      " [[231.84  44.16]\n",
      " [478.8   91.2 ]\n",
      " [339.36  64.64]]\n"
     ]
    }
   ],
   "source": [
    "mtmp = pd.crosstab(male[f], male[t])\n",
    "print('남성교차표\\n', mtmp)\n",
    "print('-' * 100)\n",
    "\n",
    "# 카이제곱검정\n",
    "result = spst.chi2_contingency(mtmp)\n",
    "print('카이제곱통계량', result[0])\n",
    "print('p-value', result[1])\n",
    "print('기대빈도\\n',result[3])\n",
    "print('-' * 100)\n",
    "ftmp = pd.crosstab(female[f], female[t])\n",
    "print('여성교차표\\n', ftmp)\n",
    "print('-' * 100)\n",
    "\n",
    "# 카이제곱검정\n",
    "result = spst.chi2_contingency(ftmp)\n",
    "print('카이제곱통계량', result[0])\n",
    "print('p-value', result[1])\n",
    "print('기대빈도\\n',result[3])\n",
    "print('-' * 100)\n",
    "tmp = pd.crosstab(data[f], data[t])\n",
    "print('교차표\\n', tmp)\n",
    "print('-' * 100)\n",
    "\n",
    "# 카이제곱검정\n",
    "result = spst.chi2_contingency(tmp)\n",
    "print('카이제곱통계량', result[0])\n",
    "print('p-value', result[1])\n",
    "print('기대빈도\\n',result[3])"
   ]
  },
  {
   "cell_type": "markdown",
   "metadata": {
    "id": "4satnDSlVnJW"
   },
   "source": [
    "#### 4) 추가 feature --> target"
   ]
  },
  {
   "cell_type": "markdown",
   "metadata": {
    "id": "XR4wCRF2VnJW"
   },
   "source": [
    "age 변수를 나이대로 바꾸어 범주형으로 조사"
   ]
  },
  {
   "cell_type": "code",
   "execution_count": 150,
   "metadata": {
    "id": "xPlwIVPoVnJX"
   },
   "outputs": [
    {
     "data": {
      "text/html": [
       "<div>\n",
       "<style scoped>\n",
       "    .dataframe tbody tr th:only-of-type {\n",
       "        vertical-align: middle;\n",
       "    }\n",
       "\n",
       "    .dataframe tbody tr th {\n",
       "        vertical-align: top;\n",
       "    }\n",
       "\n",
       "    .dataframe thead th {\n",
       "        text-align: right;\n",
       "    }\n",
       "</style>\n",
       "<table border=\"1\" class=\"dataframe\">\n",
       "  <thead>\n",
       "    <tr style=\"text-align: right;\">\n",
       "      <th></th>\n",
       "      <th>Attrition</th>\n",
       "      <th>Age</th>\n",
       "      <th>DistanceFromHome</th>\n",
       "      <th>Gender</th>\n",
       "      <th>JobSatisfaction</th>\n",
       "      <th>MaritalStatus</th>\n",
       "      <th>MonthlyIncome</th>\n",
       "      <th>NumCompaniesWorked</th>\n",
       "      <th>OverTime</th>\n",
       "      <th>PercentSalaryHike</th>\n",
       "      <th>RelationshipSatisfaction</th>\n",
       "      <th>TotalWorkingYears</th>\n",
       "      <th>WorkLifeBalance</th>\n",
       "      <th>avgyear</th>\n",
       "      <th>hikem</th>\n",
       "      <th>Ages</th>\n",
       "    </tr>\n",
       "  </thead>\n",
       "  <tbody>\n",
       "    <tr>\n",
       "      <th>0</th>\n",
       "      <td>0</td>\n",
       "      <td>33</td>\n",
       "      <td>7.0</td>\n",
       "      <td>Male</td>\n",
       "      <td>3</td>\n",
       "      <td>Married</td>\n",
       "      <td>11691</td>\n",
       "      <td>0.0</td>\n",
       "      <td>No</td>\n",
       "      <td>11</td>\n",
       "      <td>4</td>\n",
       "      <td>14</td>\n",
       "      <td>4</td>\n",
       "      <td>14.0</td>\n",
       "      <td>1158.567568</td>\n",
       "      <td>30</td>\n",
       "    </tr>\n",
       "    <tr>\n",
       "      <th>1</th>\n",
       "      <td>0</td>\n",
       "      <td>35</td>\n",
       "      <td>18.0</td>\n",
       "      <td>Male</td>\n",
       "      <td>4</td>\n",
       "      <td>Single</td>\n",
       "      <td>9362</td>\n",
       "      <td>2.0</td>\n",
       "      <td>No</td>\n",
       "      <td>11</td>\n",
       "      <td>3</td>\n",
       "      <td>10</td>\n",
       "      <td>3</td>\n",
       "      <td>5.0</td>\n",
       "      <td>927.765766</td>\n",
       "      <td>30</td>\n",
       "    </tr>\n",
       "    <tr>\n",
       "      <th>2</th>\n",
       "      <td>0</td>\n",
       "      <td>42</td>\n",
       "      <td>6.0</td>\n",
       "      <td>Male</td>\n",
       "      <td>1</td>\n",
       "      <td>Married</td>\n",
       "      <td>13348</td>\n",
       "      <td>9.0</td>\n",
       "      <td>No</td>\n",
       "      <td>13</td>\n",
       "      <td>2</td>\n",
       "      <td>18</td>\n",
       "      <td>4</td>\n",
       "      <td>2.0</td>\n",
       "      <td>1535.610619</td>\n",
       "      <td>40</td>\n",
       "    </tr>\n",
       "    <tr>\n",
       "      <th>3</th>\n",
       "      <td>0</td>\n",
       "      <td>46</td>\n",
       "      <td>2.0</td>\n",
       "      <td>Female</td>\n",
       "      <td>1</td>\n",
       "      <td>Married</td>\n",
       "      <td>17048</td>\n",
       "      <td>8.0</td>\n",
       "      <td>No</td>\n",
       "      <td>23</td>\n",
       "      <td>1</td>\n",
       "      <td>28</td>\n",
       "      <td>3</td>\n",
       "      <td>3.5</td>\n",
       "      <td>3187.837398</td>\n",
       "      <td>40</td>\n",
       "    </tr>\n",
       "    <tr>\n",
       "      <th>4</th>\n",
       "      <td>0</td>\n",
       "      <td>39</td>\n",
       "      <td>NaN</td>\n",
       "      <td>Male</td>\n",
       "      <td>4</td>\n",
       "      <td>Divorced</td>\n",
       "      <td>4127</td>\n",
       "      <td>2.0</td>\n",
       "      <td>No</td>\n",
       "      <td>18</td>\n",
       "      <td>4</td>\n",
       "      <td>7</td>\n",
       "      <td>3</td>\n",
       "      <td>3.5</td>\n",
       "      <td>629.542373</td>\n",
       "      <td>30</td>\n",
       "    </tr>\n",
       "  </tbody>\n",
       "</table>\n",
       "</div>"
      ],
      "text/plain": [
       "   Attrition  Age  DistanceFromHome  Gender  JobSatisfaction MaritalStatus  \\\n",
       "0          0   33               7.0    Male                3       Married   \n",
       "1          0   35              18.0    Male                4        Single   \n",
       "2          0   42               6.0    Male                1       Married   \n",
       "3          0   46               2.0  Female                1       Married   \n",
       "4          0   39               NaN    Male                4      Divorced   \n",
       "\n",
       "   MonthlyIncome  NumCompaniesWorked OverTime  PercentSalaryHike  \\\n",
       "0          11691                 0.0       No                 11   \n",
       "1           9362                 2.0       No                 11   \n",
       "2          13348                 9.0       No                 13   \n",
       "3          17048                 8.0       No                 23   \n",
       "4           4127                 2.0       No                 18   \n",
       "\n",
       "   RelationshipSatisfaction  TotalWorkingYears  WorkLifeBalance  avgyear  \\\n",
       "0                         4                 14                4     14.0   \n",
       "1                         3                 10                3      5.0   \n",
       "2                         2                 18                4      2.0   \n",
       "3                         1                 28                3      3.5   \n",
       "4                         4                  7                3      3.5   \n",
       "\n",
       "         hikem  Ages  \n",
       "0  1158.567568    30  \n",
       "1   927.765766    30  \n",
       "2  1535.610619    40  \n",
       "3  3187.837398    40  \n",
       "4   629.542373    30  "
      ]
     },
     "execution_count": 150,
     "metadata": {},
     "output_type": "execute_result"
    }
   ],
   "source": [
    "data['Ages'] = data['Age']//10*10\n",
    "data.head()"
   ]
  },
  {
   "cell_type": "code",
   "execution_count": 151,
   "metadata": {
    "id": "knJ77D9lVnJX"
   },
   "outputs": [],
   "source": [
    "f = 'Ages'"
   ]
  },
  {
   "cell_type": "code",
   "execution_count": 154,
   "metadata": {},
   "outputs": [],
   "source": [
    "mtmp = pd.crosstab(male[f], male[t], normalize='index')\n",
    "ftmp = pd.crosstab(female[f], female[t], normalize='index')"
   ]
  },
  {
   "cell_type": "code",
   "execution_count": 155,
   "metadata": {},
   "outputs": [
    {
     "data": {
      "image/png": "[encoded data removed]",
      "text/plain": [
       "<Figure size 432x288 with 1 Axes>"
      ]
     },
     "metadata": {
      "needs_background": "light"
     },
     "output_type": "display_data"
    },
    {
     "data": {
      "image/png": "[encoded data removed]",
      "text/plain": [
       "<Figure size 432x288 with 1 Axes>"
      ]
     },
     "metadata": {
      "needs_background": "light"
     },
     "output_type": "display_data"
    }
   ],
   "source": [
    "mtmp.plot.bar(stacked=True)\n",
    "plt.axhline(1-male[t].mean(), color = 'r')\n",
    "plt.show()\n",
    "ftmp.plot.bar(stacked=True)\n",
    "plt.axhline(1-female[t].mean(), color = 'r')\n",
    "plt.show()"
   ]
  },
  {
   "cell_type": "code",
   "execution_count": 156,
   "metadata": {},
   "outputs": [
    {
     "data": {
      "image/png": "[encoded data removed]",
      "text/plain": [
       "<Figure size 432x288 with 3 Axes>"
      ]
     },
     "metadata": {
      "needs_background": "light"
     },
     "output_type": "display_data"
    },
    {
     "data": {
      "image/png": "[encoded data removed]",
      "text/plain": [
       "<Figure size 432x288 with 3 Axes>"
      ]
     },
     "metadata": {
      "needs_background": "light"
     },
     "output_type": "display_data"
    }
   ],
   "source": [
    "mosaic(male,[f,t])\n",
    "plt.axhline(1-male[t].mean(), color = 'r')\n",
    "plt.show()\n",
    "mosaic(female,[f,t])\n",
    "plt.axhline(1-female[t].mean(), color = 'r')\n",
    "plt.show()"
   ]
  },
  {
   "cell_type": "code",
   "execution_count": 157,
   "metadata": {},
   "outputs": [
    {
     "name": "stdout",
     "output_type": "stream",
     "text": [
      "남성교차표\n",
      " Attrition    0   1\n",
      "Ages              \n",
      "10           1   7\n",
      "20         121  43\n",
      "30         277  50\n",
      "40         160  15\n",
      "50          68  16\n",
      "60           2   0\n",
      "----------------------------------------------------------------------------------------------------\n",
      "카이제곱통계량 47.65061807648352\n",
      "p-value 4.185683645154983e-09\n",
      "기대빈도\n",
      " [[  6.62105263   1.37894737]\n",
      " [135.73157895  28.26842105]\n",
      " [270.63552632  56.36447368]\n",
      " [144.83552632  30.16447368]\n",
      " [ 69.52105263  14.47894737]\n",
      " [  1.65526316   0.34473684]]\n",
      "----------------------------------------------------------------------------------------------------\n",
      "여성교차표\n",
      " Attrition    0   1\n",
      "Ages              \n",
      "10           5   3\n",
      "20          67  27\n",
      "30         185  23\n",
      "40         109  12\n",
      "50          53   4\n",
      "60           2   0\n",
      "----------------------------------------------------------------------------------------------------\n",
      "카이제곱통계량 26.26764791113441\n",
      "p-value 7.917778015833925e-05\n",
      "기대빈도\n",
      " [[  6.87346939   1.12653061]\n",
      " [ 80.76326531  13.23673469]\n",
      " [178.71020408  29.28979592]\n",
      " [103.96122449  17.03877551]\n",
      " [ 48.97346939   8.02653061]\n",
      " [  1.71836735   0.28163265]]\n",
      "----------------------------------------------------------------------------------------------------\n",
      "교차표\n",
      " Attrition    0   1\n",
      "Ages              \n",
      "10           6  10\n",
      "20         188  70\n",
      "30         462  73\n",
      "40         269  27\n",
      "50         121  20\n",
      "60           4   0\n",
      "----------------------------------------------------------------------------------------------------\n",
      "카이제곱통계량 63.26423360140518\n",
      "p-value 2.566429395758515e-12\n",
      "기대빈도\n",
      " [[ 13.44   2.56]\n",
      " [216.72  41.28]\n",
      " [449.4   85.6 ]\n",
      " [248.64  47.36]\n",
      " [118.44  22.56]\n",
      " [  3.36   0.64]]\n"
     ]
    }
   ],
   "source": [
    "mtmp = pd.crosstab(male[f], male[t])\n",
    "print('남성교차표\\n', mtmp)\n",
    "print('-' * 100)\n",
    "\n",
    "# 카이제곱검정\n",
    "result = spst.chi2_contingency(mtmp)\n",
    "print('카이제곱통계량', result[0])\n",
    "print('p-value', result[1])\n",
    "print('기대빈도\\n',result[3])\n",
    "print('-' * 100)\n",
    "ftmp = pd.crosstab(female[f], female[t])\n",
    "print('여성교차표\\n', ftmp)\n",
    "print('-' * 100)\n",
    "\n",
    "# 카이제곱검정\n",
    "result = spst.chi2_contingency(ftmp)\n",
    "print('카이제곱통계량', result[0])\n",
    "print('p-value', result[1])\n",
    "print('기대빈도\\n',result[3])\n",
    "print('-' * 100)\n",
    "tmp = pd.crosstab(data[f], data[t])\n",
    "print('교차표\\n', tmp)\n",
    "print('-' * 100)\n",
    "\n",
    "# 카이제곱검정\n",
    "result = spst.chi2_contingency(tmp)\n",
    "print('카이제곱통계량', result[0])\n",
    "print('p-value', result[1])\n",
    "print('기대빈도\\n',result[3])"
   ]
  },
  {
   "cell_type": "markdown",
   "metadata": {
    "id": "w8sOe-7_YUef"
   },
   "source": [
    "#### 5) 추가 feature --> target"
   ]
  },
  {
   "cell_type": "code",
   "execution_count": null,
   "metadata": {
    "id": "i1Pkh064YUef"
   },
   "outputs": [],
   "source": []
  },
  {
   "cell_type": "code",
   "execution_count": null,
   "metadata": {
    "id": "kJPjE5ygYUeg"
   },
   "outputs": [],
   "source": []
  },
  {
   "cell_type": "code",
   "execution_count": null,
   "metadata": {
    "id": "0DXJCZT3YUeg"
   },
   "outputs": [],
   "source": []
  },
  {
   "cell_type": "markdown",
   "metadata": {
    "id": "lUsQ0iBHMqte"
   },
   "source": [
    "### (2) 숫자형 Feature --> target\n",
    "\n",
    "* 숫자형 Feature에 대해서 Y와 비교하여 차트를 그리고 수치화 하시오.  \n",
    "    ① 그래프 : histogram, densityplot   \n",
    "    ② 수치화 : 로지스틱회귀"
   ]
  },
  {
   "cell_type": "markdown",
   "metadata": {},
   "source": [
    "### 가설 2번 : 평균 근무 년차가 낮을수록 이직률이 높을 것이다."
   ]
  },
  {
   "cell_type": "markdown",
   "metadata": {
    "id": "v6cXSmzdNlNC"
   },
   "source": [
    "#### 1) avgyear --> target"
   ]
  },
  {
   "cell_type": "code",
   "execution_count": 118,
   "metadata": {
    "id": "yXxZ-66_NlNC"
   },
   "outputs": [],
   "source": [
    "f = 'avgyear'"
   ]
  },
  {
   "cell_type": "code",
   "execution_count": 119,
   "metadata": {
    "id": "eRlncc70NlNC"
   },
   "outputs": [
    {
     "data": {
      "image/png": "[encoded data removed]",
      "text/plain": [
       "<Figure size 432x288 with 1 Axes>"
      ]
     },
     "metadata": {
      "needs_background": "light"
     },
     "output_type": "display_data"
    },
    {
     "data": {
      "image/png": "[encoded data removed]",
      "text/plain": [
       "<Figure size 432x288 with 1 Axes>"
      ]
     },
     "metadata": {
      "needs_background": "light"
     },
     "output_type": "display_data"
    }
   ],
   "source": [
    "sns.histplot(x=f, data = data, hue = t)\n",
    "plt.show()\n",
    "sns.kdeplot(x=f, data = data, hue = t,common_norm=0)\n",
    "plt.show()"
   ]
  },
  {
   "cell_type": "code",
   "execution_count": 120,
   "metadata": {
    "id": "vLuNUvPQNlNC"
   },
   "outputs": [
    {
     "name": "stdout",
     "output_type": "stream",
     "text": [
      "Optimization terminated successfully.\n",
      "         Current function value: 0.453219\n",
      "         Iterations 7\n",
      "avgyear    4.716105e-64\n",
      "dtype: float64\n"
     ]
    }
   ],
   "source": [
    "model = sm.Logit(data[t], data[f])\n",
    "result = model.fit()\n",
    "print(result.pvalues)"
   ]
  },
  {
   "cell_type": "markdown",
   "metadata": {},
   "source": [
    "### 가설 3번 : 전년 대비 상승금액이 클수록 이직률이 낮을 것이다."
   ]
  },
  {
   "cell_type": "markdown",
   "metadata": {},
   "source": [
    "#### 2) hikem --> target"
   ]
  },
  {
   "cell_type": "code",
   "execution_count": 127,
   "metadata": {
    "id": "pfcwvewSNlNC"
   },
   "outputs": [],
   "source": [
    "f = 'hikem'"
   ]
  },
  {
   "cell_type": "code",
   "execution_count": 128,
   "metadata": {
    "id": "b5lRCrwDNlND"
   },
   "outputs": [
    {
     "data": {
      "image/png": "[encoded data removed]",
      "text/plain": [
       "<Figure size 432x288 with 1 Axes>"
      ]
     },
     "metadata": {
      "needs_background": "light"
     },
     "output_type": "display_data"
    },
    {
     "data": {
      "image/png": "[encoded data removed]",
      "text/plain": [
       "<Figure size 432x288 with 1 Axes>"
      ]
     },
     "metadata": {
      "needs_background": "light"
     },
     "output_type": "display_data"
    }
   ],
   "source": [
    "sns.histplot(x=f, data = data, hue = t)\n",
    "plt.show()\n",
    "sns.kdeplot(x=f, data = data, hue = t,common_norm=0)\n",
    "plt.show()"
   ]
  },
  {
   "cell_type": "code",
   "execution_count": 129,
   "metadata": {
    "id": "DDZF6EPcNlND"
   },
   "outputs": [
    {
     "name": "stdout",
     "output_type": "stream",
     "text": [
      "Optimization terminated successfully.\n",
      "         Current function value: 0.439354\n",
      "         Iterations 6\n",
      "hikem    1.516825e-70\n",
      "dtype: float64\n"
     ]
    }
   ],
   "source": [
    "model = sm.Logit(data[t], data[f])\n",
    "result = model.fit()\n",
    "print(result.pvalues)"
   ]
  },
  {
   "cell_type": "markdown",
   "metadata": {
    "id": "KF1sV61jNlND"
   },
   "source": [
    "#### 3) feature --> target"
   ]
  },
  {
   "cell_type": "code",
   "execution_count": 140,
   "metadata": {
    "id": "oH7UBCEYNlND"
   },
   "outputs": [],
   "source": [
    "f = 'PercentSalaryHike'"
   ]
  },
  {
   "cell_type": "code",
   "execution_count": 141,
   "metadata": {
    "id": "zDLq_B2DNlND"
   },
   "outputs": [
    {
     "data": {
      "image/png": "[encoded data removed]",
      "text/plain": [
       "<Figure size 432x288 with 1 Axes>"
      ]
     },
     "metadata": {
      "needs_background": "light"
     },
     "output_type": "display_data"
    },
    {
     "data": {
      "image/png": "[encoded data removed]",
      "text/plain": [
       "<Figure size 432x288 with 1 Axes>"
      ]
     },
     "metadata": {
      "needs_background": "light"
     },
     "output_type": "display_data"
    }
   ],
   "source": [
    "sns.histplot(x=f, data = data, hue = t)\n",
    "plt.show()\n",
    "sns.kdeplot(x=f, data = data, hue = t,common_norm=0)\n",
    "plt.show()"
   ]
  },
  {
   "cell_type": "code",
   "execution_count": 143,
   "metadata": {
    "id": "nVMfhdXnNlND"
   },
   "outputs": [
    {
     "name": "stdout",
     "output_type": "stream",
     "text": [
      "Optimization terminated successfully.\n",
      "         Current function value: 0.450230\n",
      "         Iterations 5\n",
      "PercentSalaryHike    3.979995e-95\n",
      "dtype: float64\n"
     ]
    }
   ],
   "source": [
    "model = sm.Logit(data[t], data[f])\n",
    "result = model.fit()\n",
    "print(result.pvalues)"
   ]
  },
  {
   "cell_type": "markdown",
   "metadata": {},
   "source": [
    "### 결론\n",
    "- 단순 상승 금액보다 상승률이 이직결정에 더 큰 영향을 끼친다."
   ]
  },
  {
   "cell_type": "markdown",
   "metadata": {
    "id": "z_AAGNYHVrSn"
   },
   "source": [
    "#### 4) 추가 feature --> target"
   ]
  },
  {
   "cell_type": "markdown",
   "metadata": {
    "id": "M9bBw9A1VrSn"
   },
   "source": [
    "distance nan값 -> 최빈값으로 채우기\n",
    "- 회사근처에 비슷한 곳에 살 확률이 높다고 생각함"
   ]
  },
  {
   "cell_type": "code",
   "execution_count": 173,
   "metadata": {
    "id": "UPtOy3iIVrSn"
   },
   "outputs": [
    {
     "data": {
      "text/plain": [
       "2     176\n",
       "1     159\n",
       "7      69\n",
       "10     69\n",
       "8      68\n",
       "3      67\n",
       "9      64\n",
       "4      55\n",
       "5      48\n",
       "6      44\n",
       "16     29\n",
       "23     25\n",
       "11     23\n",
       "24     23\n",
       "28     21\n",
       "26     21\n",
       "18     21\n",
       "20     19\n",
       "25     19\n",
       "15     19\n",
       "14     19\n",
       "29     19\n",
       "22     15\n",
       "17     15\n",
       "12     15\n",
       "21     14\n",
       "19     14\n",
       "13     14\n",
       "27     11\n",
       "Name: disnum, dtype: int64"
      ]
     },
     "execution_count": 173,
     "metadata": {},
     "output_type": "execute_result"
    }
   ],
   "source": [
    "f = 'disnum'\n",
    "tmp = data.copy()\n",
    "tmp.dropna(axis=0,inplace=True)\n",
    "tmp[f] = tmp['DistanceFromHome'].astype('int')\n",
    "tmp[f].value_counts()"
   ]
  },
  {
   "cell_type": "code",
   "execution_count": 183,
   "metadata": {
    "id": "wJPgAK_NVrSn"
   },
   "outputs": [
    {
     "data": {
      "text/plain": [
       "Attrition                    0\n",
       "Age                          0\n",
       "DistanceFromHome            54\n",
       "Gender                       0\n",
       "JobSatisfaction              0\n",
       "MaritalStatus                0\n",
       "MonthlyIncome                0\n",
       "NumCompaniesWorked          21\n",
       "OverTime                     0\n",
       "PercentSalaryHike            0\n",
       "RelationshipSatisfaction     0\n",
       "TotalWorkingYears            0\n",
       "WorkLifeBalance              0\n",
       "avgyear                      0\n",
       "hikem                        0\n",
       "Ages                         0\n",
       "dtype: int64"
      ]
     },
     "execution_count": 183,
     "metadata": {},
     "output_type": "execute_result"
    }
   ],
   "source": [
    "data.fillna({'DistanceFromHome':2})\n",
    "data.isna().sum()"
   ]
  },
  {
   "cell_type": "code",
   "execution_count": 176,
   "metadata": {},
   "outputs": [
    {
     "data": {
      "image/png": "[encoded data removed]",
      "text/plain": [
       "<Figure size 432x288 with 1 Axes>"
      ]
     },
     "metadata": {
      "needs_background": "light"
     },
     "output_type": "display_data"
    },
    {
     "data": {
      "image/png": "[encoded data removed]",
      "text/plain": [
       "<Figure size 432x288 with 1 Axes>"
      ]
     },
     "metadata": {
      "needs_background": "light"
     },
     "output_type": "display_data"
    }
   ],
   "source": [
    "f = 'DistanceFromHome'\n",
    "sns.histplot(x=f, data = data, hue = t)\n",
    "plt.show()\n",
    "sns.kdeplot(x=f, data = data, hue = t,common_norm=0)\n",
    "plt.show()"
   ]
  },
  {
   "cell_type": "code",
   "execution_count": 184,
   "metadata": {},
   "outputs": [
    {
     "name": "stdout",
     "output_type": "stream",
     "text": [
      "Optimization terminated successfully.\n",
      "         Current function value: 0.570401\n",
      "         Iterations 6\n",
      "DistanceFromHome    3.022649e-43\n",
      "dtype: float64\n"
     ]
    }
   ],
   "source": [
    "data.dropna(axis=0,inplace=True)\n",
    "model = sm.Logit(data[t], data[f])\n",
    "result = model.fit()\n",
    "print(result.pvalues)"
   ]
  },
  {
   "cell_type": "code",
   "execution_count": null,
   "metadata": {},
   "outputs": [],
   "source": []
  },
  {
   "cell_type": "markdown",
   "metadata": {
    "id": "7IyXlOS1YXcx"
   },
   "source": [
    "#### 5) 추가 feature --> target"
   ]
  },
  {
   "cell_type": "code",
   "execution_count": null,
   "metadata": {
    "id": "HG_txwwoYXcy"
   },
   "outputs": [],
   "source": []
  },
  {
   "cell_type": "code",
   "execution_count": null,
   "metadata": {
    "id": "q379_2wBYXcy"
   },
   "outputs": [],
   "source": []
  },
  {
   "cell_type": "code",
   "execution_count": null,
   "metadata": {
    "id": "FMy7fU3YYXcy"
   },
   "outputs": [],
   "source": []
  },
  {
   "cell_type": "markdown",
   "metadata": {
    "id": "Jd4WbbU-jqU3"
   },
   "source": [
    "## 4.관계 정리"
   ]
  },
  {
   "cell_type": "markdown",
   "metadata": {
    "id": "bKmN0rtAjto6"
   },
   "source": [
    "### 1) 강한관계의 변수"
   ]
  },
  {
   "cell_type": "markdown",
   "metadata": {
    "id": "H_12vyYtVuub"
   },
   "source": [
    "- avgyear : 평균근무 년차\n",
    "- hikem : 전년 대비 상승 금액\n",
    "- MaritalStatus : 결혼 여부\n",
    "- Ages : 나이대\n",
    "- DistanceFromHome"
   ]
  },
  {
   "cell_type": "markdown",
   "metadata": {
    "id": "u8B765zNjwp5"
   },
   "source": [
    "### 2) 약한관계의 변수"
   ]
  },
  {
   "cell_type": "markdown",
   "metadata": {
    "id": "YHyp2PzLVvHq"
   },
   "source": [
    "- 여성의 동료와의 관계\n",
    "- 워라밸"
   ]
  },
  {
   "cell_type": "markdown",
   "metadata": {
    "id": "eYiQ9OUijwdq"
   },
   "source": [
    "### 3) 관계 없음"
   ]
  },
  {
   "cell_type": "markdown",
   "metadata": {
    "id": "LUZVsuUaVwCj"
   },
   "source": [
    "- 남성의 동료와의 관계"
   ]
  },
  {
   "cell_type": "markdown",
   "metadata": {
    "id": "nePF6KE6jlX6"
   },
   "source": [
    "## 5.결론"
   ]
  },
  {
   "cell_type": "markdown",
   "metadata": {
    "id": "B8E9F24bkYTn"
   },
   "source": [
    "### 가설 1\n",
    "- 동료와의 관계, 워라밸 모두 남성보다 여성에게 더 큰 영향을 끼친다. \n",
    "- 워라밸 설문조사의 경우 남성은 사실대로 답한 반면 여성의 설문은 사실을 반영하지 않았을 가능성이 있다."
   ]
  },
  {
   "cell_type": "markdown",
   "metadata": {
    "id": "Ok05h7OlVzkK"
   },
   "source": [
    "### 가설 2\n",
    "- 평균 근무 년차가 낮을수록 이직률이 높아진다.\n",
    "- 이직 받을 시 그 사람의 평균 근무 년차를 파악해야 한다."
   ]
  },
  {
   "cell_type": "markdown",
   "metadata": {
    "id": "34ZFmO3ZVzVi"
   },
   "source": [
    "### 가설 3\n",
    "- 단순 금액 상승보다 전년 대비 상승률이 이직 결정에 더 큰 영향을 끼친다."
   ]
  },
  {
   "cell_type": "markdown",
   "metadata": {
    "id": "MHV9jLDWVzQC"
   },
   "source": [
    "### 가설 4\n",
    "- 직원의 결혼 여부는 이직률에 큰 영향을 끼친다.\n",
    "- 평균적으로 남성에게 결혼여부가 더 큰 영향을 미쳤지만 큰 차이는 아니었다."
   ]
  },
  {
   "cell_type": "markdown",
   "metadata": {},
   "source": [
    "### 가설 5\n",
    "- 나이대가 젊을 수록 이직률이 높아지는 경향을 보인다.\n",
    "- 특히 남자 20대는 80%가 넘는 이직률을 보여주고 있다.\n",
    "- 남성 50대가 갑자기 이직률이 높아지는 것을 보아 대부분의 정년이 50대임을 알 수 있다."
   ]
  },
  {
   "cell_type": "raw",
   "metadata": {},
   "source": [
    "가설6 거리가 멀수록 이직률이 높아짐"
   ]
  },
  {
   "cell_type": "code",
   "execution_count": null,
   "metadata": {},
   "outputs": [],
   "source": []
  }
 ],
 "metadata": {
  "colab": {
   "collapsed_sections": [
    "BP8iBi7We3AI",
    "TLlMg3cNMoRg",
    "nJmYs7WgMzti",
    "0q616kYrM0VR",
    "53vrba7gM04Z",
    "opTBFVXvM1mx",
    "NFGBwz34YJG3",
    "CVRxxOC5NFf6",
    "akKd5uoTYF-5",
    "wUj9QWE4NFIh",
    "GhWOVHzuYcp9",
    "Dh2UW7_S-yoq",
    "liItz0vkNX2F",
    "TplEQHKlNYgN",
    "4satnDSlVnJW",
    "w8sOe-7_YUef",
    "v6cXSmzdNlNC",
    "CPkwhq72NlNC",
    "KF1sV61jNlND",
    "z_AAGNYHVrSn",
    "7IyXlOS1YXcx"
   ],
   "name": "과제3. 직원 이직 분석.ipynb",
   "provenance": [],
   "toc_visible": true
  },
  "kernelspec": {
   "display_name": "Python 3",
   "language": "python",
   "name": "python3"
  },
  "language_info": {
   "codemirror_mode": {
    "name": "ipython",
    "version": 3
   },
   "file_extension": ".py",
   "mimetype": "text/x-python",
   "name": "python",
   "nbconvert_exporter": "python",
   "pygments_lexer": "ipython3",
   "version": "3.8.8"
  }
 },
 "nbformat": 4,
 "nbformat_minor": 1
}
